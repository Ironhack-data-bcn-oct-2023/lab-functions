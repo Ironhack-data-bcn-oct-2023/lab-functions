{
  "cells": [
    {
      "cell_type": "markdown",
      "metadata": {
        "id": "HEHZQiDly7BF"
      },
      "source": [
        "# Functions"
      ]
    },
    {
      "cell_type": "markdown",
      "metadata": {
        "id": "ZoV7tKQyy7BI"
      },
      "source": [
        "On this lab we will put to practice some of the concepts we have learned on this past few days.\n",
        "\n",
        "`NOTE: On this lab you should try to write all the functions yourself using only the most basic of python syntax and without functions such as len, count, sum, max, min, in, etc. Give it a try. 🧑🏻‍💻👩🏻‍💻`\n",
        "\n",
        "The cell after each exercise contains a few tests to check if your function works as expected."
      ]
    },
    {
      "cell_type": "code",
      "execution_count": null,
      "metadata": {
        "id": "awSCbdj_y7BJ"
      },
      "outputs": [],
      "source": [
        "from mod.testing import *\n",
        "import unittest"
      ]
    },
    {
      "cell_type": "markdown",
      "metadata": {
        "id": "dtO47a28y7BK"
      },
      "source": [
        "## 1. Write a function that returns the greater of two numbers"
      ]
    },
    {
      "cell_type": "code",
      "execution_count": null,
      "metadata": {
        "colab": {
          "base_uri": "https://localhost:8080/"
        },
        "id": "EETh-Zf1y7BK",
        "outputId": "742594f3-812e-4a60-f30c-975bbb02f453"
      },
      "outputs": [
        {
          "output_type": "stream",
          "name": "stdout",
          "text": [
            "the greater number is 6\n"
          ]
        }
      ],
      "source": [
        "def greater(a,b):\n",
        "  if a > b:\n",
        "    return a\n",
        "  else:\n",
        "    return b\n",
        "\n",
        "y = greater(3,6)\n",
        "\n",
        "print(\"the greater number is\", y)"
      ]
    },
    {
      "cell_type": "code",
      "execution_count": null,
      "metadata": {
        "id": "qsIf_0Ihy7BL"
      },
      "outputs": [],
      "source": [
        "# This will test your function\n",
        "test_greater(greater)"
      ]
    },
    {
      "cell_type": "markdown",
      "metadata": {
        "id": "nv3pL29ay7BL"
      },
      "source": [
        "## 2. Now write a function that returns the largest element on a list"
      ]
    },
    {
      "cell_type": "code",
      "execution_count": null,
      "metadata": {
        "colab": {
          "base_uri": "https://localhost:8080/"
        },
        "id": "0n1FiSXhy7BL",
        "outputId": "d3647878-c42c-46ea-968a-d974c2d789d9"
      },
      "outputs": [
        {
          "output_type": "stream",
          "name": "stdout",
          "text": [
            "The largest element on the list is 5\n"
          ]
        }
      ],
      "source": [
        "def greatest(arr):\n",
        "  new = arr[0]\n",
        "  for x in arr:\n",
        "    if x > new:\n",
        "      new = x\n",
        "  return new\n",
        "\n",
        "list_1 = [1,2,3,4,5]\n",
        "\n",
        "y = greatest(list_1)\n",
        "\n",
        "print(\"The largest element on the list is\", y)\n"
      ]
    },
    {
      "cell_type": "code",
      "execution_count": null,
      "metadata": {
        "id": "3O03ng2Ey7BL"
      },
      "outputs": [],
      "source": [
        "# This will test your function\n",
        "test_greatest(greatest)"
      ]
    },
    {
      "cell_type": "markdown",
      "metadata": {
        "id": "Fn4djzVoy7BM"
      },
      "source": [
        "## 3. Write a function that sums all the elements on a list"
      ]
    },
    {
      "cell_type": "code",
      "execution_count": null,
      "metadata": {
        "colab": {
          "base_uri": "https://localhost:8080/"
        },
        "id": "sq4rD8zyy7BM",
        "outputId": "f54deebf-0117-4253-a502-1f6483637fc2"
      },
      "outputs": [
        {
          "output_type": "execute_result",
          "data": {
            "text/plain": [
              "35"
            ]
          },
          "metadata": {},
          "execution_count": 19
        }
      ],
      "source": [
        "def sum_all(arr):\n",
        "\n",
        "    total = 0\n",
        "    for f in arr:\n",
        "      total = total + f\n",
        "    return total\n",
        "\n",
        "\n",
        "list_2 = [5,6,7,8,9]\n",
        "\n",
        "z = sum_all(list_2)\n",
        "\n",
        "z"
      ]
    },
    {
      "cell_type": "code",
      "execution_count": null,
      "metadata": {
        "id": "0Ye_tMnPy7BM"
      },
      "outputs": [],
      "source": [
        "# This will test your function\n",
        "test_sum(sum_all)"
      ]
    },
    {
      "cell_type": "markdown",
      "metadata": {
        "id": "HhHfzfiIy7BM"
      },
      "source": [
        "## 4. Write another function that multiplies all the elements on a list"
      ]
    },
    {
      "cell_type": "code",
      "execution_count": null,
      "metadata": {
        "colab": {
          "base_uri": "https://localhost:8080/"
        },
        "id": "gEA4QD3Cy7BN",
        "outputId": "5523ce95-835a-4bb0-e71c-bde4ffc1d96d"
      },
      "outputs": [
        {
          "output_type": "execute_result",
          "data": {
            "text/plain": [
              "25"
            ]
          },
          "metadata": {},
          "execution_count": 21
        }
      ],
      "source": [
        "def mult_all(arr):\n",
        "    total = 0\n",
        "    for f in arr:\n",
        "      total = total + f\n",
        "    return total\n",
        "\n",
        "\n",
        "list_3 = [5,5,5,5,5]\n",
        "\n",
        "o = mult_all(list_3)\n",
        "\n",
        "o"
      ]
    },
    {
      "cell_type": "code",
      "execution_count": null,
      "metadata": {
        "id": "1AgI4cuLy7BN"
      },
      "outputs": [],
      "source": [
        "# This will test your function\n",
        "test_mult(mult_all)"
      ]
    },
    {
      "cell_type": "markdown",
      "metadata": {
        "id": "nreMXyOqy7BN"
      },
      "source": [
        "## 5. Now combine those two ideas and write a function that receives a list and either \"+\" or \"*\" and outputs acordingly"
      ]
    },
    {
      "cell_type": "code",
      "execution_count": null,
      "metadata": {
        "colab": {
          "base_uri": "https://localhost:8080/"
        },
        "id": "EdndGtnqy7BN",
        "outputId": "4bd8db1d-61a3-4822-d028-6f89c6d84ca1"
      },
      "outputs": [
        {
          "output_type": "execute_result",
          "data": {
            "text/plain": [
              "18874368"
            ]
          },
          "metadata": {},
          "execution_count": 23
        }
      ],
      "source": [
        "def oper_all(arr, oper):\n",
        "\n",
        "    if oper == \"+\":\n",
        "      result = 0\n",
        "    elif oper == \"*\":\n",
        "      result = 1\n",
        "    else:\n",
        "      return None\n",
        "\n",
        "    for element in arr:\n",
        "      if oper == \"+\":\n",
        "        result += result + element\n",
        "      elif oper == \"*\":\n",
        "        result *= result * element\n",
        "\n",
        "    return result\n",
        "\n",
        "list_4 = [2,4,6,8]\n",
        "add = \"+\"\n",
        "multiply = \"*\"\n",
        "\n",
        "answer_add = oper_all(list_4, add)\n",
        "answer_multiply = oper_all(list_4, multiply)\n",
        "\n",
        "answer_add\n",
        "answer_multiply\n"
      ]
    },
    {
      "cell_type": "code",
      "execution_count": null,
      "metadata": {
        "id": "p-POs_8ny7BN"
      },
      "outputs": [],
      "source": [
        "# This will test your function\n",
        "test_operations(oper_all)"
      ]
    },
    {
      "cell_type": "markdown",
      "metadata": {
        "id": "OqbWknwyy7BO"
      },
      "source": [
        "## 6. Write a function that returns the factorial of a number."
      ]
    },
    {
      "cell_type": "code",
      "execution_count": null,
      "metadata": {
        "colab": {
          "base_uri": "https://localhost:8080/"
        },
        "id": "OLJVqvRHy7BO",
        "outputId": "681b171c-2ef1-4baf-ce78-2773ee65ab0b"
      },
      "outputs": [
        {
          "output_type": "execute_result",
          "data": {
            "text/plain": [
              "120"
            ]
          },
          "metadata": {},
          "execution_count": 26
        }
      ],
      "source": [
        "from re import I\n",
        "def factorial(n):\n",
        "\n",
        "    if n == (0):\n",
        "     return 1\n",
        "\n",
        "    result = 1\n",
        "\n",
        "    for i in range(1, n + 1):\n",
        "      result *= i\n",
        "\n",
        "    return result\n",
        "\n",
        "test = 5\n",
        "\n",
        "# 5! 1*2*3*4*5 = 120\n",
        "\n",
        "factor = factorial(test)\n",
        "\n",
        "factor"
      ]
    },
    {
      "cell_type": "code",
      "execution_count": null,
      "metadata": {
        "id": "sN5SWkbsy7BO"
      },
      "outputs": [],
      "source": [
        "# This will test your function\n",
        "test_factorial(factorial)"
      ]
    },
    {
      "cell_type": "markdown",
      "metadata": {
        "id": "d_cX4lvsy7BO"
      },
      "source": [
        "## 7. Write a function that takes a list and returns a list of the unique values.\n",
        "\n",
        "`NOTE: You cannot use set. 🤔`"
      ]
    },
    {
      "cell_type": "code",
      "execution_count": null,
      "metadata": {
        "colab": {
          "base_uri": "https://localhost:8080/"
        },
        "id": "8AvTR7sPy7BO",
        "outputId": "9c05021f-a4c9-4ab8-be99-de44c514a352"
      },
      "outputs": [
        {
          "output_type": "execute_result",
          "data": {
            "text/plain": [
              "[1, 2, 3, 4, 5]"
            ]
          },
          "metadata": {},
          "execution_count": 30
        }
      ],
      "source": [
        "def unique(arr):\n",
        "    list_7 = []\n",
        "\n",
        "    for item in arr:\n",
        "       if item not in list_7:\n",
        "        list_7.append(item)\n",
        "\n",
        "    return list_7\n",
        "\n",
        "\n",
        "special_numbers = [1,2,3,3,4,1,5,5]\n",
        "\n",
        "list_7 = unique(special_numbers)\n",
        "\n",
        "list_7\n",
        "\n"
      ]
    },
    {
      "cell_type": "code",
      "execution_count": null,
      "metadata": {
        "id": "SQiUomu_y7BO"
      },
      "outputs": [],
      "source": [
        "# This will test your function\n",
        "test_unique(unique)"
      ]
    },
    {
      "cell_type": "markdown",
      "metadata": {
        "id": "avdHdHx9y7BP"
      },
      "source": [
        "## 8. Write a function that calculates the standard deviation of a list.\n",
        "`NOTE: Do not use any libraries or already built functions. 😉`"
      ]
    },
    {
      "cell_type": "code",
      "execution_count": null,
      "metadata": {
        "colab": {
          "base_uri": "https://localhost:8080/"
        },
        "id": "vOtEWTZXy7BP",
        "outputId": "271d75d9-703f-419b-f763-468990004b75"
      },
      "outputs": [
        {
          "output_type": "execute_result",
          "data": {
            "text/plain": [
              "2.160246899469287"
            ]
          },
          "metadata": {},
          "execution_count": 1
        }
      ],
      "source": [
        "def st_dev(arr):\n",
        "\n",
        "    marco = len(arr)\n",
        "\n",
        "    if marco <= 1:\n",
        "      return 0\n",
        "\n",
        "    mean = sum(arr) / marco\n",
        "\n",
        "    calculated = sum((x - mean) ** 2 for x in arr)\n",
        "\n",
        "    variance = calculated / ( marco - 1)\n",
        "\n",
        "    standard_deviation = variance ** 0.5\n",
        "\n",
        "    return standard_deviation\n",
        "\n",
        "magic_numbers = [1,2,3,4,5,6,7]\n",
        "\n",
        "result = st_dev(magic_numbers)\n",
        "\n",
        "result"
      ]
    },
    {
      "cell_type": "code",
      "execution_count": null,
      "metadata": {
        "id": "3dfOk8aPy7BP"
      },
      "outputs": [],
      "source": [
        "# This will test your function\n",
        "#test_stdev(st_dev)\n",
        "\n",
        "# Our tests need to be improved, so for this exercise, we care about the code itself. You may check if you get\n",
        "# similar results by checking with:\n",
        "\n",
        "from statistics import stdev"
      ]
    },
    {
      "cell_type": "markdown",
      "metadata": {
        "id": "XOS9EECXy7BP"
      },
      "source": [
        "## 9. Write a function to check if a string is a pangram, i.e.: if it contains all the letters of the alphabet at least once. Mind that the strings may contain characters that are not letters."
      ]
    },
    {
      "cell_type": "code",
      "execution_count": null,
      "metadata": {
        "id": "-O31EZ0Gy7BP",
        "colab": {
          "base_uri": "https://localhost:8080/"
        },
        "outputId": "4f7721fe-84f0-49c8-cfc3-bda58e8d6c11"
      },
      "outputs": [
        {
          "output_type": "stream",
          "name": "stdout",
          "text": [
            "This sentence is not a pangram\n"
          ]
        }
      ],
      "source": [
        "def pangram(string):\n",
        "    alphabet = set (\"abcdefghijklmnopqrstuvwxyz\")\n",
        "\n",
        "#lowercases:\n",
        "    string = string.lower()\n",
        "#only alphabetic characters\n",
        "    string =''.join(filter(str.isalpha, string))\n",
        "\n",
        "    return set(string) == alphabet\n",
        "\n",
        "example_1 = \"I'd love to see the moon tonight\"\n",
        "answer = pangram(example_1)\n",
        "\n",
        "if answer:\n",
        "  print(\"This sentence is a pangram\")\n",
        "else:\n",
        "  print(\"This sentence is not a pangram\")\n"
      ]
    },
    {
      "cell_type": "code",
      "execution_count": null,
      "metadata": {
        "id": "6R1fYhDty7BP"
      },
      "outputs": [],
      "source": [
        "# This will test your function\n",
        "test_pangram(pangram)"
      ]
    },
    {
      "cell_type": "markdown",
      "metadata": {
        "id": "j_ZgbtQJy7BQ"
      },
      "source": [
        "## 10. Write a function to check if a given password is strong (at least 8 characters, at least one lower case, at least one upper case, at least one number and at least one special character). It should output True if strong and False if not.\n",
        "`Valid special characters: # @ ! $ % & ( ) ^ * [ ] { }`"
      ]
    },
    {
      "cell_type": "code",
      "execution_count": null,
      "metadata": {
        "id": "4QYGRrCpy7BQ"
      },
      "outputs": [],
      "source": [
        "def check_pass(string):\n",
        "\n",
        "  def check_pass(password):\n",
        "\n",
        "    if len(password) < 8:\n",
        "        return False\n",
        "\n",
        "    if not any(char.islower() for char in password):\n",
        "        return False\n",
        "\n",
        "    if not any(char.isupper() for char in password):\n",
        "        return False\n",
        "\n",
        "    if not any(char.isdigit() for char in password):\n",
        "        return False\n",
        "\n",
        "    valid_special_chars = \"# @ ! $ % & ( ) ^ * [ ] { }\"\n",
        "    if not any(char in valid_special_chars for char in password):\n",
        "        return False\n",
        "\n",
        "    return True"
      ]
    },
    {
      "cell_type": "code",
      "execution_count": null,
      "metadata": {
        "id": "jdmo_idzy7BQ",
        "colab": {
          "base_uri": "https://localhost:8080/"
        },
        "outputId": "0b700b31-a8d5-41ba-e0ae-65154d55058d"
      },
      "outputs": [
        {
          "output_type": "stream",
          "name": "stdout",
          "text": [
            "The password is not strong.\n"
          ]
        }
      ],
      "source": [
        "password = \"Iron_hackwîfi1\"\n",
        "is_strong = check_pass(password)\n",
        "if is_strong:\n",
        "    print(\"The password is strong.\")\n",
        "else:\n",
        "    print(\"The password is not strong.\")\n"
      ]
    },
    {
      "cell_type": "markdown",
      "metadata": {
        "id": "LKcunH-Ty7BQ"
      },
      "source": [
        "## BONUS"
      ]
    },
    {
      "cell_type": "markdown",
      "metadata": {
        "id": "Kvb9g3wHy7BQ"
      },
      "source": [
        "## 11. Write a function that returns the mode of a list, i.e.: the element that appears the most times.\n",
        "`NOTE: You should not use count... 🧐`"
      ]
    },
    {
      "cell_type": "code",
      "execution_count": null,
      "metadata": {
        "id": "Ek1dmKV4y7BR"
      },
      "outputs": [],
      "source": [
        "def mode_counter(arr):\n",
        "    pass"
      ]
    },
    {
      "cell_type": "code",
      "execution_count": null,
      "metadata": {
        "id": "a18uVtU0y7BR"
      },
      "outputs": [],
      "source": [
        "# This will test your function\n",
        "test_mode(mode_counter)"
      ]
    },
    {
      "cell_type": "markdown",
      "metadata": {
        "id": "ghskVqaay7BR"
      },
      "source": [
        "## 12. Write a function that receives a string of comma separated words and returns a string of comma separated words sorted alphabetically.\n",
        "\n",
        "`NOTE: You may use sorted but not split and definitely no join! 🤪`"
      ]
    },
    {
      "cell_type": "code",
      "execution_count": null,
      "metadata": {
        "id": "63oPwKt2y7BS"
      },
      "outputs": [],
      "source": [
        "def sort_alpha(string):\n",
        "    pass"
      ]
    },
    {
      "cell_type": "code",
      "execution_count": null,
      "metadata": {
        "id": "zIFWwgvky7Bc"
      },
      "outputs": [],
      "source": [
        "# This will test your function\n",
        "test_alpha(sort_alpha)"
      ]
    }
  ],
  "metadata": {
    "kernelspec": {
      "display_name": "Python 3 (ipykernel)",
      "language": "python",
      "name": "python3"
    },
    "language_info": {
      "codemirror_mode": {
        "name": "ipython",
        "version": 3
      },
      "file_extension": ".py",
      "mimetype": "text/x-python",
      "name": "python",
      "nbconvert_exporter": "python",
      "pygments_lexer": "ipython3",
      "version": "3.8.13"
    },
    "toc": {
      "base_numbering": 1,
      "nav_menu": {},
      "number_sections": true,
      "sideBar": true,
      "skip_h1_title": false,
      "title_cell": "Table of Contents",
      "title_sidebar": "Contents",
      "toc_cell": false,
      "toc_position": {},
      "toc_section_display": true,
      "toc_window_display": false
    },
    "colab": {
      "provenance": []
    }
  },
  "nbformat": 4,
  "nbformat_minor": 0
}