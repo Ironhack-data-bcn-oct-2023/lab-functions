{
 "cells": [
  {
   "cell_type": "code",
   "execution_count": null,
   "id": "d0a89381",
   "metadata": {},
   "outputs": [],
   "source": [
    "def greater(a,b):\n",
    "    if a > b:\n",
    "        return a\n",
    "    else:\n",
    "        return b\n"
   ]
  },
  {
   "cell_type": "code",
   "execution_count": null,
   "id": "97f91f14",
   "metadata": {},
   "outputs": [],
   "source": [
    "def greatest(*list1,*list2):\n",
    "    \n",
    "    z = 0\n",
    "    for i in list1:\n",
    "        z = i \n",
    "        while z < i:\n",
    "            pass\n",
    "        break\n",
    "        return z\n",
    "    \n",
    "    y = 0\n",
    "    for i in list2:\n",
    "        y = i \n",
    "        while y < i:\n",
    "            pass\n",
    "        break\n",
    "        return y"
   ]
  },
  {
   "cell_type": "code",
   "execution_count": null,
   "id": "6db536a9",
   "metadata": {},
   "outputs": [],
   "source": [
    "# This will test your function \n",
    "greatest([2,3,4,2], [91,2,45,34])"
   ]
  },
  {
   "cell_type": "code",
   "execution_count": null,
   "id": "9f17cb12",
   "metadata": {},
   "outputs": [],
   "source": [
    "def sum_all(*elements):\n",
    "    total = 0\n",
    "    for i in elements:\n",
    "        total += i\n",
    "    return total\n",
    "        \n",
    "    "
   ]
  },
  {
   "cell_type": "code",
   "execution_count": null,
   "id": "ec0b9246",
   "metadata": {},
   "outputs": [],
   "source": [
    "# This will test your function \n",
    "#test_sum(sum_all)\n",
    "\n",
    "sum_all(4,9,8,20)"
   ]
  }
 ],
 "metadata": {
  "kernelspec": {
   "display_name": "Python 3 (ipykernel)",
   "language": "python",
   "name": "python3"
  },
  "language_info": {
   "codemirror_mode": {
    "name": "ipython",
    "version": 3
   },
   "file_extension": ".py",
   "mimetype": "text/x-python",
   "name": "python",
   "nbconvert_exporter": "python",
   "pygments_lexer": "ipython3",
   "version": "3.11.4"
  }
 },
 "nbformat": 4,
 "nbformat_minor": 5
}
