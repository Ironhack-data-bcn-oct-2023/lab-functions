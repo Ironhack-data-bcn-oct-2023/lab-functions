{
 "cells": [
  {
   "cell_type": "markdown",
   "metadata": {},
   "source": [
    "# Functions"
   ]
  },
  {
   "cell_type": "markdown",
   "metadata": {},
   "source": [
    "On this lab we will put to practice some of the concepts we have learned on this past few days.\n",
    "\n",
    "`NOTE: On this lab you should try to write all the functions yourself using only the most basic of python syntax and without functions such as len, count, sum, max, min, in, etc. Give it a try. 🧑🏻‍💻👩🏻‍💻`\n",
    "\n",
    "The cell after each exercise contains a few tests to check if your function works as expected."
   ]
  },
  {
   "cell_type": "code",
   "execution_count": 7,
   "metadata": {},
   "outputs": [],
   "source": [
    "from mod.testing import *\n",
    "import unittest"
   ]
  },
  {
   "cell_type": "markdown",
   "metadata": {},
   "source": [
    "## 1. Write a function that returns the greater of two numbers"
   ]
  },
  {
   "cell_type": "code",
   "execution_count": 8,
   "metadata": {},
   "outputs": [],
   "source": [
    "def greater(a,b):\n",
    "    if a > b:\n",
    "        return a\n",
    "    else:\n",
    "        return b"
   ]
  },
  {
   "cell_type": "code",
   "execution_count": 9,
   "metadata": {},
   "outputs": [
    {
     "data": {
      "text/plain": [
       "10"
      ]
     },
     "execution_count": 9,
     "metadata": {},
     "output_type": "execute_result"
    }
   ],
   "source": [
    "greater(10,9)"
   ]
  },
  {
   "cell_type": "code",
   "execution_count": 10,
   "metadata": {},
   "outputs": [
    {
     "name": "stderr",
     "output_type": "stream",
     "text": [
      "....................................................................................................\n",
      "----------------------------------------------------------------------\n",
      "Ran 100 tests in 0.109s\n",
      "\n",
      "OK\n"
     ]
    }
   ],
   "source": [
    "# This will test your function \n",
    "test_greater(greater)"
   ]
  },
  {
   "cell_type": "markdown",
   "metadata": {},
   "source": [
    "## 2. Now write a function that returns the largest element on a list"
   ]
  },
  {
   "cell_type": "code",
   "execution_count": 11,
   "metadata": {},
   "outputs": [],
   "source": [
    "def greatest(list1):\n",
    "    \n",
    "    z = 0\n",
    "    for i in list1:\n",
    "        if z < i:\n",
    "            z = i \n",
    "    return z\n",
    "  "
   ]
  },
  {
   "cell_type": "code",
   "execution_count": 12,
   "metadata": {},
   "outputs": [
    {
     "ename": "TypeError",
     "evalue": "greatest() takes 1 positional argument but 4 were given",
     "output_type": "error",
     "traceback": [
      "\u001b[1;31m---------------------------------------------------------------------------\u001b[0m",
      "\u001b[1;31mTypeError\u001b[0m                                 Traceback (most recent call last)",
      "Cell \u001b[1;32mIn[12], line 1\u001b[0m\n\u001b[1;32m----> 1\u001b[0m greatest(\u001b[38;5;241m2\u001b[39m,\u001b[38;5;241m3\u001b[39m,\u001b[38;5;241m4\u001b[39m,\u001b[38;5;241m2\u001b[39m)\n",
      "\u001b[1;31mTypeError\u001b[0m: greatest() takes 1 positional argument but 4 were given"
     ]
    }
   ],
   "source": [
    "greatest(2,3,4,2)"
   ]
  },
  {
   "cell_type": "code",
   "execution_count": 13,
   "metadata": {},
   "outputs": [
    {
     "name": "stderr",
     "output_type": "stream",
     "text": [
      "....................................................................................................\n",
      "----------------------------------------------------------------------\n",
      "Ran 100 tests in 0.132s\n",
      "\n",
      "OK\n"
     ]
    }
   ],
   "source": [
    "# This will test your function \n",
    "test_greatest(greatest)"
   ]
  },
  {
   "cell_type": "markdown",
   "metadata": {},
   "source": [
    "## 3. Write a function that sums all the elements on a list"
   ]
  },
  {
   "cell_type": "code",
   "execution_count": 14,
   "metadata": {},
   "outputs": [],
   "source": [
    "def sum_all(elements):\n",
    "    total = 0\n",
    "    for i in elements:\n",
    "        total += i\n",
    "    return total"
   ]
  },
  {
   "cell_type": "code",
   "execution_count": 15,
   "metadata": {},
   "outputs": [
    {
     "ename": "TypeError",
     "evalue": "sum_all() takes 1 positional argument but 4 were given",
     "output_type": "error",
     "traceback": [
      "\u001b[1;31m---------------------------------------------------------------------------\u001b[0m",
      "\u001b[1;31mTypeError\u001b[0m                                 Traceback (most recent call last)",
      "Cell \u001b[1;32mIn[15], line 1\u001b[0m\n\u001b[1;32m----> 1\u001b[0m sum_all(\u001b[38;5;241m4\u001b[39m,\u001b[38;5;241m9\u001b[39m,\u001b[38;5;241m8\u001b[39m,\u001b[38;5;241m20\u001b[39m)\n",
      "\u001b[1;31mTypeError\u001b[0m: sum_all() takes 1 positional argument but 4 were given"
     ]
    }
   ],
   "source": [
    "sum_all(4,9,8,20)"
   ]
  },
  {
   "cell_type": "code",
   "execution_count": 16,
   "metadata": {},
   "outputs": [
    {
     "name": "stderr",
     "output_type": "stream",
     "text": [
      "....................................................................................................\n",
      "----------------------------------------------------------------------\n",
      "Ran 100 tests in 0.131s\n",
      "\n",
      "OK\n"
     ]
    }
   ],
   "source": [
    "# This will test your function \n",
    "test_sum(sum_all)"
   ]
  },
  {
   "cell_type": "markdown",
   "metadata": {},
   "source": [
    "## 4. Write another function that multiplies all the elements on a list"
   ]
  },
  {
   "cell_type": "code",
   "execution_count": 17,
   "metadata": {},
   "outputs": [],
   "source": [
    "def mult_all(elements4):\n",
    "    total = 1\n",
    "    for i in elements4:\n",
    "        total *= i\n",
    "    return total"
   ]
  },
  {
   "cell_type": "code",
   "execution_count": 18,
   "metadata": {},
   "outputs": [
    {
     "ename": "TypeError",
     "evalue": "mult_all() takes 1 positional argument but 4 were given",
     "output_type": "error",
     "traceback": [
      "\u001b[1;31m---------------------------------------------------------------------------\u001b[0m",
      "\u001b[1;31mTypeError\u001b[0m                                 Traceback (most recent call last)",
      "Cell \u001b[1;32mIn[18], line 1\u001b[0m\n\u001b[1;32m----> 1\u001b[0m mult_all(\u001b[38;5;241m9\u001b[39m,\u001b[38;5;241m2\u001b[39m,\u001b[38;5;241m6\u001b[39m,\u001b[38;5;241m7\u001b[39m)\n",
      "\u001b[1;31mTypeError\u001b[0m: mult_all() takes 1 positional argument but 4 were given"
     ]
    }
   ],
   "source": [
    "mult_all(9,2,6,7)"
   ]
  },
  {
   "cell_type": "code",
   "execution_count": 19,
   "metadata": {},
   "outputs": [
    {
     "name": "stderr",
     "output_type": "stream",
     "text": [
      "....................................................................................................\n",
      "----------------------------------------------------------------------\n",
      "Ran 100 tests in 0.128s\n",
      "\n",
      "OK\n"
     ]
    }
   ],
   "source": [
    "# This will test your function \n",
    "test_mult(mult_all)"
   ]
  },
  {
   "cell_type": "markdown",
   "metadata": {},
   "source": [
    "## 5. Now combine those two ideas and write a function that receives a list and either \"+\" or \"*\" and outputs acordingly"
   ]
  },
  {
   "cell_type": "code",
   "execution_count": 59,
   "metadata": {},
   "outputs": [],
   "source": [
    "def oper_all(*arr, oper):\n",
    "    if oper == \"+\":\n",
    "        return sum_all(arr)\n",
    "    if oper == \"*\":\n",
    "        return mult_all(arr)"
   ]
  },
  {
   "cell_type": "code",
   "execution_count": 60,
   "metadata": {},
   "outputs": [
    {
     "ename": "TypeError",
     "evalue": "'function' object is not subscriptable",
     "output_type": "error",
     "traceback": [
      "\u001b[1;31m---------------------------------------------------------------------------\u001b[0m",
      "\u001b[1;31mTypeError\u001b[0m                                 Traceback (most recent call last)",
      "Cell \u001b[1;32mIn[60], line 1\u001b[0m\n\u001b[1;32m----> 1\u001b[0m oper_all[\u001b[38;5;241m9\u001b[39m,\u001b[38;5;241m2\u001b[39m,\u001b[38;5;241m4\u001b[39m,\u001b[38;5;241m5\u001b[39m],(\u001b[38;5;124m\"\u001b[39m\u001b[38;5;124m*\u001b[39m\u001b[38;5;124m\"\u001b[39m)\n",
      "\u001b[1;31mTypeError\u001b[0m: 'function' object is not subscriptable"
     ]
    }
   ],
   "source": [
    "oper_all[9,2,4,5],(\"*\")"
   ]
  },
  {
   "cell_type": "code",
   "execution_count": 61,
   "metadata": {},
   "outputs": [
    {
     "name": "stderr",
     "output_type": "stream",
     "text": [
      "EEEEEEEEEEEEEEEEEEEEEEEEEEEEEEEEEEEEEEEEEEEEEEEEEEEEEEEEEEEEEEEEEEEEEEEEEEEEEEEEEEEEEEEEEEEEEEEEEEEE\n",
      "======================================================================\n",
      "ERROR: runTest (mod.testing.test_operations.<locals>.TestKnown.runTest)\n",
      "----------------------------------------------------------------------\n",
      "Traceback (most recent call last):\n",
      "  File \"C:\\Users\\anafl\\ironhack\\lab-functions\\mod\\testing.py\", line 78, in runTest\n",
      "    self.assertEqual(fn(*self.input), self.output, f\"Should be {self.output}\")\n",
      "                     ^^^^^^^^^^^^^^^\n",
      "TypeError: oper_all() missing 1 required keyword-only argument: 'oper'\n",
      "\n",
      "======================================================================\n",
      "ERROR: runTest (mod.testing.test_operations.<locals>.TestKnown.runTest)\n",
      "----------------------------------------------------------------------\n",
      "Traceback (most recent call last):\n",
      "  File \"C:\\Users\\anafl\\ironhack\\lab-functions\\mod\\testing.py\", line 78, in runTest\n",
      "    self.assertEqual(fn(*self.input), self.output, f\"Should be {self.output}\")\n",
      "                     ^^^^^^^^^^^^^^^\n",
      "TypeError: oper_all() missing 1 required keyword-only argument: 'oper'\n",
      "\n",
      "======================================================================\n",
      "ERROR: runTest (mod.testing.test_operations.<locals>.TestKnown.runTest)\n",
      "----------------------------------------------------------------------\n",
      "Traceback (most recent call last):\n",
      "  File \"C:\\Users\\anafl\\ironhack\\lab-functions\\mod\\testing.py\", line 78, in runTest\n",
      "    self.assertEqual(fn(*self.input), self.output, f\"Should be {self.output}\")\n",
      "                     ^^^^^^^^^^^^^^^\n",
      "TypeError: oper_all() missing 1 required keyword-only argument: 'oper'\n",
      "\n",
      "======================================================================\n",
      "ERROR: runTest (mod.testing.test_operations.<locals>.TestKnown.runTest)\n",
      "----------------------------------------------------------------------\n",
      "Traceback (most recent call last):\n",
      "  File \"C:\\Users\\anafl\\ironhack\\lab-functions\\mod\\testing.py\", line 78, in runTest\n",
      "    self.assertEqual(fn(*self.input), self.output, f\"Should be {self.output}\")\n",
      "                     ^^^^^^^^^^^^^^^\n",
      "TypeError: oper_all() missing 1 required keyword-only argument: 'oper'\n",
      "\n",
      "======================================================================\n",
      "ERROR: runTest (mod.testing.test_operations.<locals>.TestKnown.runTest)\n",
      "----------------------------------------------------------------------\n",
      "Traceback (most recent call last):\n",
      "  File \"C:\\Users\\anafl\\ironhack\\lab-functions\\mod\\testing.py\", line 78, in runTest\n",
      "    self.assertEqual(fn(*self.input), self.output, f\"Should be {self.output}\")\n",
      "                     ^^^^^^^^^^^^^^^\n",
      "TypeError: oper_all() missing 1 required keyword-only argument: 'oper'\n",
      "\n",
      "======================================================================\n",
      "ERROR: runTest (mod.testing.test_operations.<locals>.TestKnown.runTest)\n",
      "----------------------------------------------------------------------\n",
      "Traceback (most recent call last):\n",
      "  File \"C:\\Users\\anafl\\ironhack\\lab-functions\\mod\\testing.py\", line 78, in runTest\n",
      "    self.assertEqual(fn(*self.input), self.output, f\"Should be {self.output}\")\n",
      "                     ^^^^^^^^^^^^^^^\n",
      "TypeError: oper_all() missing 1 required keyword-only argument: 'oper'\n",
      "\n",
      "======================================================================\n",
      "ERROR: runTest (mod.testing.test_operations.<locals>.TestKnown.runTest)\n",
      "----------------------------------------------------------------------\n",
      "Traceback (most recent call last):\n",
      "  File \"C:\\Users\\anafl\\ironhack\\lab-functions\\mod\\testing.py\", line 78, in runTest\n",
      "    self.assertEqual(fn(*self.input), self.output, f\"Should be {self.output}\")\n",
      "                     ^^^^^^^^^^^^^^^\n",
      "TypeError: oper_all() missing 1 required keyword-only argument: 'oper'\n",
      "\n",
      "======================================================================\n",
      "ERROR: runTest (mod.testing.test_operations.<locals>.TestKnown.runTest)\n",
      "----------------------------------------------------------------------\n",
      "Traceback (most recent call last):\n",
      "  File \"C:\\Users\\anafl\\ironhack\\lab-functions\\mod\\testing.py\", line 78, in runTest\n",
      "    self.assertEqual(fn(*self.input), self.output, f\"Should be {self.output}\")\n",
      "                     ^^^^^^^^^^^^^^^\n",
      "TypeError: oper_all() missing 1 required keyword-only argument: 'oper'\n",
      "\n",
      "======================================================================\n",
      "ERROR: runTest (mod.testing.test_operations.<locals>.TestKnown.runTest)\n",
      "----------------------------------------------------------------------\n",
      "Traceback (most recent call last):\n",
      "  File \"C:\\Users\\anafl\\ironhack\\lab-functions\\mod\\testing.py\", line 78, in runTest\n",
      "    self.assertEqual(fn(*self.input), self.output, f\"Should be {self.output}\")\n",
      "                     ^^^^^^^^^^^^^^^\n",
      "TypeError: oper_all() missing 1 required keyword-only argument: 'oper'\n",
      "\n",
      "======================================================================\n",
      "ERROR: runTest (mod.testing.test_operations.<locals>.TestKnown.runTest)\n",
      "----------------------------------------------------------------------\n",
      "Traceback (most recent call last):\n",
      "  File \"C:\\Users\\anafl\\ironhack\\lab-functions\\mod\\testing.py\", line 78, in runTest\n",
      "    self.assertEqual(fn(*self.input), self.output, f\"Should be {self.output}\")\n",
      "                     ^^^^^^^^^^^^^^^\n",
      "TypeError: oper_all() missing 1 required keyword-only argument: 'oper'\n",
      "\n",
      "======================================================================\n",
      "ERROR: runTest (mod.testing.test_operations.<locals>.TestKnown.runTest)\n",
      "----------------------------------------------------------------------\n",
      "Traceback (most recent call last):\n",
      "  File \"C:\\Users\\anafl\\ironhack\\lab-functions\\mod\\testing.py\", line 78, in runTest\n",
      "    self.assertEqual(fn(*self.input), self.output, f\"Should be {self.output}\")\n",
      "                     ^^^^^^^^^^^^^^^\n",
      "TypeError: oper_all() missing 1 required keyword-only argument: 'oper'\n",
      "\n",
      "======================================================================\n",
      "ERROR: runTest (mod.testing.test_operations.<locals>.TestKnown.runTest)\n",
      "----------------------------------------------------------------------\n",
      "Traceback (most recent call last):\n",
      "  File \"C:\\Users\\anafl\\ironhack\\lab-functions\\mod\\testing.py\", line 78, in runTest\n",
      "    self.assertEqual(fn(*self.input), self.output, f\"Should be {self.output}\")\n",
      "                     ^^^^^^^^^^^^^^^\n",
      "TypeError: oper_all() missing 1 required keyword-only argument: 'oper'\n",
      "\n",
      "======================================================================\n",
      "ERROR: runTest (mod.testing.test_operations.<locals>.TestKnown.runTest)\n",
      "----------------------------------------------------------------------\n",
      "Traceback (most recent call last):\n",
      "  File \"C:\\Users\\anafl\\ironhack\\lab-functions\\mod\\testing.py\", line 78, in runTest\n",
      "    self.assertEqual(fn(*self.input), self.output, f\"Should be {self.output}\")\n",
      "                     ^^^^^^^^^^^^^^^\n",
      "TypeError: oper_all() missing 1 required keyword-only argument: 'oper'\n",
      "\n",
      "======================================================================\n",
      "ERROR: runTest (mod.testing.test_operations.<locals>.TestKnown.runTest)\n",
      "----------------------------------------------------------------------\n",
      "Traceback (most recent call last):\n",
      "  File \"C:\\Users\\anafl\\ironhack\\lab-functions\\mod\\testing.py\", line 78, in runTest\n",
      "    self.assertEqual(fn(*self.input), self.output, f\"Should be {self.output}\")\n",
      "                     ^^^^^^^^^^^^^^^\n",
      "TypeError: oper_all() missing 1 required keyword-only argument: 'oper'\n",
      "\n",
      "======================================================================\n",
      "ERROR: runTest (mod.testing.test_operations.<locals>.TestKnown.runTest)\n",
      "----------------------------------------------------------------------\n",
      "Traceback (most recent call last):\n",
      "  File \"C:\\Users\\anafl\\ironhack\\lab-functions\\mod\\testing.py\", line 78, in runTest\n",
      "    self.assertEqual(fn(*self.input), self.output, f\"Should be {self.output}\")\n",
      "                     ^^^^^^^^^^^^^^^\n",
      "TypeError: oper_all() missing 1 required keyword-only argument: 'oper'\n",
      "\n",
      "======================================================================\n",
      "ERROR: runTest (mod.testing.test_operations.<locals>.TestKnown.runTest)\n",
      "----------------------------------------------------------------------\n",
      "Traceback (most recent call last):\n",
      "  File \"C:\\Users\\anafl\\ironhack\\lab-functions\\mod\\testing.py\", line 78, in runTest\n",
      "    self.assertEqual(fn(*self.input), self.output, f\"Should be {self.output}\")\n",
      "                     ^^^^^^^^^^^^^^^\n",
      "TypeError: oper_all() missing 1 required keyword-only argument: 'oper'\n",
      "\n"
     ]
    },
    {
     "name": "stderr",
     "output_type": "stream",
     "text": [
      "======================================================================\n",
      "ERROR: runTest (mod.testing.test_operations.<locals>.TestKnown.runTest)\n",
      "----------------------------------------------------------------------\n",
      "Traceback (most recent call last):\n",
      "  File \"C:\\Users\\anafl\\ironhack\\lab-functions\\mod\\testing.py\", line 78, in runTest\n",
      "    self.assertEqual(fn(*self.input), self.output, f\"Should be {self.output}\")\n",
      "                     ^^^^^^^^^^^^^^^\n",
      "TypeError: oper_all() missing 1 required keyword-only argument: 'oper'\n",
      "\n",
      "======================================================================\n",
      "ERROR: runTest (mod.testing.test_operations.<locals>.TestKnown.runTest)\n",
      "----------------------------------------------------------------------\n",
      "Traceback (most recent call last):\n",
      "  File \"C:\\Users\\anafl\\ironhack\\lab-functions\\mod\\testing.py\", line 78, in runTest\n",
      "    self.assertEqual(fn(*self.input), self.output, f\"Should be {self.output}\")\n",
      "                     ^^^^^^^^^^^^^^^\n",
      "TypeError: oper_all() missing 1 required keyword-only argument: 'oper'\n",
      "\n",
      "======================================================================\n",
      "ERROR: runTest (mod.testing.test_operations.<locals>.TestKnown.runTest)\n",
      "----------------------------------------------------------------------\n",
      "Traceback (most recent call last):\n",
      "  File \"C:\\Users\\anafl\\ironhack\\lab-functions\\mod\\testing.py\", line 78, in runTest\n",
      "    self.assertEqual(fn(*self.input), self.output, f\"Should be {self.output}\")\n",
      "                     ^^^^^^^^^^^^^^^\n",
      "TypeError: oper_all() missing 1 required keyword-only argument: 'oper'\n",
      "\n",
      "======================================================================\n",
      "ERROR: runTest (mod.testing.test_operations.<locals>.TestKnown.runTest)\n",
      "----------------------------------------------------------------------\n",
      "Traceback (most recent call last):\n",
      "  File \"C:\\Users\\anafl\\ironhack\\lab-functions\\mod\\testing.py\", line 78, in runTest\n",
      "    self.assertEqual(fn(*self.input), self.output, f\"Should be {self.output}\")\n",
      "                     ^^^^^^^^^^^^^^^\n",
      "TypeError: oper_all() missing 1 required keyword-only argument: 'oper'\n",
      "\n",
      "======================================================================\n",
      "ERROR: runTest (mod.testing.test_operations.<locals>.TestKnown.runTest)\n",
      "----------------------------------------------------------------------\n",
      "Traceback (most recent call last):\n",
      "  File \"C:\\Users\\anafl\\ironhack\\lab-functions\\mod\\testing.py\", line 78, in runTest\n",
      "    self.assertEqual(fn(*self.input), self.output, f\"Should be {self.output}\")\n",
      "                     ^^^^^^^^^^^^^^^\n",
      "TypeError: oper_all() missing 1 required keyword-only argument: 'oper'\n",
      "\n",
      "======================================================================\n",
      "ERROR: runTest (mod.testing.test_operations.<locals>.TestKnown.runTest)\n",
      "----------------------------------------------------------------------\n",
      "Traceback (most recent call last):\n",
      "  File \"C:\\Users\\anafl\\ironhack\\lab-functions\\mod\\testing.py\", line 78, in runTest\n",
      "    self.assertEqual(fn(*self.input), self.output, f\"Should be {self.output}\")\n",
      "                     ^^^^^^^^^^^^^^^\n",
      "TypeError: oper_all() missing 1 required keyword-only argument: 'oper'\n",
      "\n",
      "======================================================================\n",
      "ERROR: runTest (mod.testing.test_operations.<locals>.TestKnown.runTest)\n",
      "----------------------------------------------------------------------\n",
      "Traceback (most recent call last):\n",
      "  File \"C:\\Users\\anafl\\ironhack\\lab-functions\\mod\\testing.py\", line 78, in runTest\n",
      "    self.assertEqual(fn(*self.input), self.output, f\"Should be {self.output}\")\n",
      "                     ^^^^^^^^^^^^^^^\n",
      "TypeError: oper_all() missing 1 required keyword-only argument: 'oper'\n",
      "\n",
      "======================================================================\n",
      "ERROR: runTest (mod.testing.test_operations.<locals>.TestKnown.runTest)\n",
      "----------------------------------------------------------------------\n",
      "Traceback (most recent call last):\n",
      "  File \"C:\\Users\\anafl\\ironhack\\lab-functions\\mod\\testing.py\", line 78, in runTest\n",
      "    self.assertEqual(fn(*self.input), self.output, f\"Should be {self.output}\")\n",
      "                     ^^^^^^^^^^^^^^^\n",
      "TypeError: oper_all() missing 1 required keyword-only argument: 'oper'\n",
      "\n",
      "======================================================================\n",
      "ERROR: runTest (mod.testing.test_operations.<locals>.TestKnown.runTest)\n",
      "----------------------------------------------------------------------\n",
      "Traceback (most recent call last):\n",
      "  File \"C:\\Users\\anafl\\ironhack\\lab-functions\\mod\\testing.py\", line 78, in runTest\n",
      "    self.assertEqual(fn(*self.input), self.output, f\"Should be {self.output}\")\n",
      "                     ^^^^^^^^^^^^^^^\n",
      "TypeError: oper_all() missing 1 required keyword-only argument: 'oper'\n",
      "\n",
      "======================================================================\n",
      "ERROR: runTest (mod.testing.test_operations.<locals>.TestKnown.runTest)\n",
      "----------------------------------------------------------------------\n",
      "Traceback (most recent call last):\n",
      "  File \"C:\\Users\\anafl\\ironhack\\lab-functions\\mod\\testing.py\", line 78, in runTest\n",
      "    self.assertEqual(fn(*self.input), self.output, f\"Should be {self.output}\")\n",
      "                     ^^^^^^^^^^^^^^^\n",
      "TypeError: oper_all() missing 1 required keyword-only argument: 'oper'\n",
      "\n",
      "======================================================================\n",
      "ERROR: runTest (mod.testing.test_operations.<locals>.TestKnown.runTest)\n",
      "----------------------------------------------------------------------\n",
      "Traceback (most recent call last):\n",
      "  File \"C:\\Users\\anafl\\ironhack\\lab-functions\\mod\\testing.py\", line 78, in runTest\n",
      "    self.assertEqual(fn(*self.input), self.output, f\"Should be {self.output}\")\n",
      "                     ^^^^^^^^^^^^^^^\n",
      "TypeError: oper_all() missing 1 required keyword-only argument: 'oper'\n",
      "\n",
      "======================================================================\n",
      "ERROR: runTest (mod.testing.test_operations.<locals>.TestKnown.runTest)\n",
      "----------------------------------------------------------------------\n",
      "Traceback (most recent call last):\n",
      "  File \"C:\\Users\\anafl\\ironhack\\lab-functions\\mod\\testing.py\", line 78, in runTest\n",
      "    self.assertEqual(fn(*self.input), self.output, f\"Should be {self.output}\")\n",
      "                     ^^^^^^^^^^^^^^^\n",
      "TypeError: oper_all() missing 1 required keyword-only argument: 'oper'\n",
      "\n",
      "======================================================================\n",
      "ERROR: runTest (mod.testing.test_operations.<locals>.TestKnown.runTest)\n",
      "----------------------------------------------------------------------\n",
      "Traceback (most recent call last):\n",
      "  File \"C:\\Users\\anafl\\ironhack\\lab-functions\\mod\\testing.py\", line 78, in runTest\n",
      "    self.assertEqual(fn(*self.input), self.output, f\"Should be {self.output}\")\n",
      "                     ^^^^^^^^^^^^^^^\n",
      "TypeError: oper_all() missing 1 required keyword-only argument: 'oper'\n",
      "\n",
      "======================================================================\n",
      "ERROR: runTest (mod.testing.test_operations.<locals>.TestKnown.runTest)\n",
      "----------------------------------------------------------------------\n",
      "Traceback (most recent call last):\n",
      "  File \"C:\\Users\\anafl\\ironhack\\lab-functions\\mod\\testing.py\", line 78, in runTest\n",
      "    self.assertEqual(fn(*self.input), self.output, f\"Should be {self.output}\")\n",
      "                     ^^^^^^^^^^^^^^^\n",
      "TypeError: oper_all() missing 1 required keyword-only argument: 'oper'\n",
      "\n",
      "======================================================================\n",
      "ERROR: runTest (mod.testing.test_operations.<locals>.TestKnown.runTest)\n",
      "----------------------------------------------------------------------\n",
      "Traceback (most recent call last):\n",
      "  File \"C:\\Users\\anafl\\ironhack\\lab-functions\\mod\\testing.py\", line 78, in runTest\n",
      "    self.assertEqual(fn(*self.input), self.output, f\"Should be {self.output}\")\n",
      "                     ^^^^^^^^^^^^^^^\n",
      "TypeError: oper_all() missing 1 required keyword-only argument: 'oper'\n",
      "\n",
      "======================================================================\n",
      "ERROR: runTest (mod.testing.test_operations.<locals>.TestKnown.runTest)\n",
      "----------------------------------------------------------------------\n",
      "Traceback (most recent call last):\n",
      "  File \"C:\\Users\\anafl\\ironhack\\lab-functions\\mod\\testing.py\", line 78, in runTest\n",
      "    self.assertEqual(fn(*self.input), self.output, f\"Should be {self.output}\")\n",
      "                     ^^^^^^^^^^^^^^^\n",
      "TypeError: oper_all() missing 1 required keyword-only argument: 'oper'\n",
      "\n"
     ]
    },
    {
     "name": "stderr",
     "output_type": "stream",
     "text": [
      "======================================================================\n",
      "ERROR: runTest (mod.testing.test_operations.<locals>.TestKnown.runTest)\n",
      "----------------------------------------------------------------------\n",
      "Traceback (most recent call last):\n",
      "  File \"C:\\Users\\anafl\\ironhack\\lab-functions\\mod\\testing.py\", line 78, in runTest\n",
      "    self.assertEqual(fn(*self.input), self.output, f\"Should be {self.output}\")\n",
      "                     ^^^^^^^^^^^^^^^\n",
      "TypeError: oper_all() missing 1 required keyword-only argument: 'oper'\n",
      "\n",
      "======================================================================\n",
      "ERROR: runTest (mod.testing.test_operations.<locals>.TestKnown.runTest)\n",
      "----------------------------------------------------------------------\n",
      "Traceback (most recent call last):\n",
      "  File \"C:\\Users\\anafl\\ironhack\\lab-functions\\mod\\testing.py\", line 78, in runTest\n",
      "    self.assertEqual(fn(*self.input), self.output, f\"Should be {self.output}\")\n",
      "                     ^^^^^^^^^^^^^^^\n",
      "TypeError: oper_all() missing 1 required keyword-only argument: 'oper'\n",
      "\n",
      "======================================================================\n",
      "ERROR: runTest (mod.testing.test_operations.<locals>.TestKnown.runTest)\n",
      "----------------------------------------------------------------------\n",
      "Traceback (most recent call last):\n",
      "  File \"C:\\Users\\anafl\\ironhack\\lab-functions\\mod\\testing.py\", line 78, in runTest\n",
      "    self.assertEqual(fn(*self.input), self.output, f\"Should be {self.output}\")\n",
      "                     ^^^^^^^^^^^^^^^\n",
      "TypeError: oper_all() missing 1 required keyword-only argument: 'oper'\n",
      "\n",
      "======================================================================\n",
      "ERROR: runTest (mod.testing.test_operations.<locals>.TestKnown.runTest)\n",
      "----------------------------------------------------------------------\n",
      "Traceback (most recent call last):\n",
      "  File \"C:\\Users\\anafl\\ironhack\\lab-functions\\mod\\testing.py\", line 78, in runTest\n",
      "    self.assertEqual(fn(*self.input), self.output, f\"Should be {self.output}\")\n",
      "                     ^^^^^^^^^^^^^^^\n",
      "TypeError: oper_all() missing 1 required keyword-only argument: 'oper'\n",
      "\n",
      "======================================================================\n",
      "ERROR: runTest (mod.testing.test_operations.<locals>.TestKnown.runTest)\n",
      "----------------------------------------------------------------------\n",
      "Traceback (most recent call last):\n",
      "  File \"C:\\Users\\anafl\\ironhack\\lab-functions\\mod\\testing.py\", line 78, in runTest\n",
      "    self.assertEqual(fn(*self.input), self.output, f\"Should be {self.output}\")\n",
      "                     ^^^^^^^^^^^^^^^\n",
      "TypeError: oper_all() missing 1 required keyword-only argument: 'oper'\n",
      "\n",
      "======================================================================\n",
      "ERROR: runTest (mod.testing.test_operations.<locals>.TestKnown.runTest)\n",
      "----------------------------------------------------------------------\n",
      "Traceback (most recent call last):\n",
      "  File \"C:\\Users\\anafl\\ironhack\\lab-functions\\mod\\testing.py\", line 78, in runTest\n",
      "    self.assertEqual(fn(*self.input), self.output, f\"Should be {self.output}\")\n",
      "                     ^^^^^^^^^^^^^^^\n",
      "TypeError: oper_all() missing 1 required keyword-only argument: 'oper'\n",
      "\n",
      "======================================================================\n",
      "ERROR: runTest (mod.testing.test_operations.<locals>.TestKnown.runTest)\n",
      "----------------------------------------------------------------------\n",
      "Traceback (most recent call last):\n",
      "  File \"C:\\Users\\anafl\\ironhack\\lab-functions\\mod\\testing.py\", line 78, in runTest\n",
      "    self.assertEqual(fn(*self.input), self.output, f\"Should be {self.output}\")\n",
      "                     ^^^^^^^^^^^^^^^\n",
      "TypeError: oper_all() missing 1 required keyword-only argument: 'oper'\n",
      "\n",
      "======================================================================\n",
      "ERROR: runTest (mod.testing.test_operations.<locals>.TestKnown.runTest)\n",
      "----------------------------------------------------------------------\n",
      "Traceback (most recent call last):\n",
      "  File \"C:\\Users\\anafl\\ironhack\\lab-functions\\mod\\testing.py\", line 78, in runTest\n",
      "    self.assertEqual(fn(*self.input), self.output, f\"Should be {self.output}\")\n",
      "                     ^^^^^^^^^^^^^^^\n",
      "TypeError: oper_all() missing 1 required keyword-only argument: 'oper'\n",
      "\n",
      "======================================================================\n",
      "ERROR: runTest (mod.testing.test_operations.<locals>.TestKnown.runTest)\n",
      "----------------------------------------------------------------------\n",
      "Traceback (most recent call last):\n",
      "  File \"C:\\Users\\anafl\\ironhack\\lab-functions\\mod\\testing.py\", line 78, in runTest\n",
      "    self.assertEqual(fn(*self.input), self.output, f\"Should be {self.output}\")\n",
      "                     ^^^^^^^^^^^^^^^\n",
      "TypeError: oper_all() missing 1 required keyword-only argument: 'oper'\n",
      "\n",
      "======================================================================\n",
      "ERROR: runTest (mod.testing.test_operations.<locals>.TestKnown.runTest)\n",
      "----------------------------------------------------------------------\n",
      "Traceback (most recent call last):\n",
      "  File \"C:\\Users\\anafl\\ironhack\\lab-functions\\mod\\testing.py\", line 78, in runTest\n",
      "    self.assertEqual(fn(*self.input), self.output, f\"Should be {self.output}\")\n",
      "                     ^^^^^^^^^^^^^^^\n",
      "TypeError: oper_all() missing 1 required keyword-only argument: 'oper'\n",
      "\n",
      "======================================================================\n",
      "ERROR: runTest (mod.testing.test_operations.<locals>.TestKnown.runTest)\n",
      "----------------------------------------------------------------------\n",
      "Traceback (most recent call last):\n",
      "  File \"C:\\Users\\anafl\\ironhack\\lab-functions\\mod\\testing.py\", line 78, in runTest\n",
      "    self.assertEqual(fn(*self.input), self.output, f\"Should be {self.output}\")\n",
      "                     ^^^^^^^^^^^^^^^\n",
      "TypeError: oper_all() missing 1 required keyword-only argument: 'oper'\n",
      "\n",
      "======================================================================\n",
      "ERROR: runTest (mod.testing.test_operations.<locals>.TestKnown.runTest)\n",
      "----------------------------------------------------------------------\n",
      "Traceback (most recent call last):\n",
      "  File \"C:\\Users\\anafl\\ironhack\\lab-functions\\mod\\testing.py\", line 78, in runTest\n",
      "    self.assertEqual(fn(*self.input), self.output, f\"Should be {self.output}\")\n",
      "                     ^^^^^^^^^^^^^^^\n",
      "TypeError: oper_all() missing 1 required keyword-only argument: 'oper'\n",
      "\n",
      "======================================================================\n",
      "ERROR: runTest (mod.testing.test_operations.<locals>.TestKnown.runTest)\n",
      "----------------------------------------------------------------------\n",
      "Traceback (most recent call last):\n",
      "  File \"C:\\Users\\anafl\\ironhack\\lab-functions\\mod\\testing.py\", line 78, in runTest\n",
      "    self.assertEqual(fn(*self.input), self.output, f\"Should be {self.output}\")\n",
      "                     ^^^^^^^^^^^^^^^\n",
      "TypeError: oper_all() missing 1 required keyword-only argument: 'oper'\n",
      "\n",
      "======================================================================\n",
      "ERROR: runTest (mod.testing.test_operations.<locals>.TestKnown.runTest)\n",
      "----------------------------------------------------------------------\n",
      "Traceback (most recent call last):\n",
      "  File \"C:\\Users\\anafl\\ironhack\\lab-functions\\mod\\testing.py\", line 78, in runTest\n",
      "    self.assertEqual(fn(*self.input), self.output, f\"Should be {self.output}\")\n",
      "                     ^^^^^^^^^^^^^^^\n",
      "TypeError: oper_all() missing 1 required keyword-only argument: 'oper'\n",
      "\n",
      "======================================================================\n",
      "ERROR: runTest (mod.testing.test_operations.<locals>.TestKnown.runTest)\n",
      "----------------------------------------------------------------------\n",
      "Traceback (most recent call last):\n",
      "  File \"C:\\Users\\anafl\\ironhack\\lab-functions\\mod\\testing.py\", line 78, in runTest\n",
      "    self.assertEqual(fn(*self.input), self.output, f\"Should be {self.output}\")\n",
      "                     ^^^^^^^^^^^^^^^\n",
      "TypeError: oper_all() missing 1 required keyword-only argument: 'oper'\n",
      "\n",
      "======================================================================\n",
      "ERROR: runTest (mod.testing.test_operations.<locals>.TestKnown.runTest)\n",
      "----------------------------------------------------------------------\n",
      "Traceback (most recent call last):\n",
      "  File \"C:\\Users\\anafl\\ironhack\\lab-functions\\mod\\testing.py\", line 78, in runTest\n",
      "    self.assertEqual(fn(*self.input), self.output, f\"Should be {self.output}\")\n",
      "                     ^^^^^^^^^^^^^^^\n",
      "TypeError: oper_all() missing 1 required keyword-only argument: 'oper'\n",
      "\n"
     ]
    },
    {
     "name": "stderr",
     "output_type": "stream",
     "text": [
      "======================================================================\n",
      "ERROR: runTest (mod.testing.test_operations.<locals>.TestKnown.runTest)\n",
      "----------------------------------------------------------------------\n",
      "Traceback (most recent call last):\n",
      "  File \"C:\\Users\\anafl\\ironhack\\lab-functions\\mod\\testing.py\", line 78, in runTest\n",
      "    self.assertEqual(fn(*self.input), self.output, f\"Should be {self.output}\")\n",
      "                     ^^^^^^^^^^^^^^^\n",
      "TypeError: oper_all() missing 1 required keyword-only argument: 'oper'\n",
      "\n",
      "======================================================================\n",
      "ERROR: runTest (mod.testing.test_operations.<locals>.TestKnown.runTest)\n",
      "----------------------------------------------------------------------\n",
      "Traceback (most recent call last):\n",
      "  File \"C:\\Users\\anafl\\ironhack\\lab-functions\\mod\\testing.py\", line 78, in runTest\n",
      "    self.assertEqual(fn(*self.input), self.output, f\"Should be {self.output}\")\n",
      "                     ^^^^^^^^^^^^^^^\n",
      "TypeError: oper_all() missing 1 required keyword-only argument: 'oper'\n",
      "\n",
      "======================================================================\n",
      "ERROR: runTest (mod.testing.test_operations.<locals>.TestKnown.runTest)\n",
      "----------------------------------------------------------------------\n",
      "Traceback (most recent call last):\n",
      "  File \"C:\\Users\\anafl\\ironhack\\lab-functions\\mod\\testing.py\", line 78, in runTest\n",
      "    self.assertEqual(fn(*self.input), self.output, f\"Should be {self.output}\")\n",
      "                     ^^^^^^^^^^^^^^^\n",
      "TypeError: oper_all() missing 1 required keyword-only argument: 'oper'\n",
      "\n",
      "======================================================================\n",
      "ERROR: runTest (mod.testing.test_operations.<locals>.TestKnown.runTest)\n",
      "----------------------------------------------------------------------\n",
      "Traceback (most recent call last):\n",
      "  File \"C:\\Users\\anafl\\ironhack\\lab-functions\\mod\\testing.py\", line 78, in runTest\n",
      "    self.assertEqual(fn(*self.input), self.output, f\"Should be {self.output}\")\n",
      "                     ^^^^^^^^^^^^^^^\n",
      "TypeError: oper_all() missing 1 required keyword-only argument: 'oper'\n",
      "\n",
      "======================================================================\n",
      "ERROR: runTest (mod.testing.test_operations.<locals>.TestKnown.runTest)\n",
      "----------------------------------------------------------------------\n",
      "Traceback (most recent call last):\n",
      "  File \"C:\\Users\\anafl\\ironhack\\lab-functions\\mod\\testing.py\", line 78, in runTest\n",
      "    self.assertEqual(fn(*self.input), self.output, f\"Should be {self.output}\")\n",
      "                     ^^^^^^^^^^^^^^^\n",
      "TypeError: oper_all() missing 1 required keyword-only argument: 'oper'\n",
      "\n",
      "======================================================================\n",
      "ERROR: runTest (mod.testing.test_operations.<locals>.TestKnown.runTest)\n",
      "----------------------------------------------------------------------\n",
      "Traceback (most recent call last):\n",
      "  File \"C:\\Users\\anafl\\ironhack\\lab-functions\\mod\\testing.py\", line 78, in runTest\n",
      "    self.assertEqual(fn(*self.input), self.output, f\"Should be {self.output}\")\n",
      "                     ^^^^^^^^^^^^^^^\n",
      "TypeError: oper_all() missing 1 required keyword-only argument: 'oper'\n",
      "\n",
      "======================================================================\n",
      "ERROR: runTest (mod.testing.test_operations.<locals>.TestKnown.runTest)\n",
      "----------------------------------------------------------------------\n",
      "Traceback (most recent call last):\n",
      "  File \"C:\\Users\\anafl\\ironhack\\lab-functions\\mod\\testing.py\", line 78, in runTest\n",
      "    self.assertEqual(fn(*self.input), self.output, f\"Should be {self.output}\")\n",
      "                     ^^^^^^^^^^^^^^^\n",
      "TypeError: oper_all() missing 1 required keyword-only argument: 'oper'\n",
      "\n",
      "======================================================================\n",
      "ERROR: runTest (mod.testing.test_operations.<locals>.TestKnown.runTest)\n",
      "----------------------------------------------------------------------\n",
      "Traceback (most recent call last):\n",
      "  File \"C:\\Users\\anafl\\ironhack\\lab-functions\\mod\\testing.py\", line 78, in runTest\n",
      "    self.assertEqual(fn(*self.input), self.output, f\"Should be {self.output}\")\n",
      "                     ^^^^^^^^^^^^^^^\n",
      "TypeError: oper_all() missing 1 required keyword-only argument: 'oper'\n",
      "\n",
      "======================================================================\n",
      "ERROR: runTest (mod.testing.test_operations.<locals>.TestKnown.runTest)\n",
      "----------------------------------------------------------------------\n",
      "Traceback (most recent call last):\n",
      "  File \"C:\\Users\\anafl\\ironhack\\lab-functions\\mod\\testing.py\", line 78, in runTest\n",
      "    self.assertEqual(fn(*self.input), self.output, f\"Should be {self.output}\")\n",
      "                     ^^^^^^^^^^^^^^^\n",
      "TypeError: oper_all() missing 1 required keyword-only argument: 'oper'\n",
      "\n",
      "======================================================================\n",
      "ERROR: runTest (mod.testing.test_operations.<locals>.TestKnown.runTest)\n",
      "----------------------------------------------------------------------\n",
      "Traceback (most recent call last):\n",
      "  File \"C:\\Users\\anafl\\ironhack\\lab-functions\\mod\\testing.py\", line 78, in runTest\n",
      "    self.assertEqual(fn(*self.input), self.output, f\"Should be {self.output}\")\n",
      "                     ^^^^^^^^^^^^^^^\n",
      "TypeError: oper_all() missing 1 required keyword-only argument: 'oper'\n",
      "\n",
      "======================================================================\n",
      "ERROR: runTest (mod.testing.test_operations.<locals>.TestKnown.runTest)\n",
      "----------------------------------------------------------------------\n",
      "Traceback (most recent call last):\n",
      "  File \"C:\\Users\\anafl\\ironhack\\lab-functions\\mod\\testing.py\", line 78, in runTest\n",
      "    self.assertEqual(fn(*self.input), self.output, f\"Should be {self.output}\")\n",
      "                     ^^^^^^^^^^^^^^^\n",
      "TypeError: oper_all() missing 1 required keyword-only argument: 'oper'\n",
      "\n",
      "======================================================================\n",
      "ERROR: runTest (mod.testing.test_operations.<locals>.TestKnown.runTest)\n",
      "----------------------------------------------------------------------\n",
      "Traceback (most recent call last):\n",
      "  File \"C:\\Users\\anafl\\ironhack\\lab-functions\\mod\\testing.py\", line 78, in runTest\n",
      "    self.assertEqual(fn(*self.input), self.output, f\"Should be {self.output}\")\n",
      "                     ^^^^^^^^^^^^^^^\n",
      "TypeError: oper_all() missing 1 required keyword-only argument: 'oper'\n",
      "\n",
      "======================================================================\n",
      "ERROR: runTest (mod.testing.test_operations.<locals>.TestKnown.runTest)\n",
      "----------------------------------------------------------------------\n",
      "Traceback (most recent call last):\n",
      "  File \"C:\\Users\\anafl\\ironhack\\lab-functions\\mod\\testing.py\", line 78, in runTest\n",
      "    self.assertEqual(fn(*self.input), self.output, f\"Should be {self.output}\")\n",
      "                     ^^^^^^^^^^^^^^^\n",
      "TypeError: oper_all() missing 1 required keyword-only argument: 'oper'\n",
      "\n",
      "======================================================================\n",
      "ERROR: runTest (mod.testing.test_operations.<locals>.TestKnown.runTest)\n",
      "----------------------------------------------------------------------\n",
      "Traceback (most recent call last):\n",
      "  File \"C:\\Users\\anafl\\ironhack\\lab-functions\\mod\\testing.py\", line 78, in runTest\n",
      "    self.assertEqual(fn(*self.input), self.output, f\"Should be {self.output}\")\n",
      "                     ^^^^^^^^^^^^^^^\n",
      "TypeError: oper_all() missing 1 required keyword-only argument: 'oper'\n",
      "\n",
      "======================================================================\n",
      "ERROR: runTest (mod.testing.test_operations.<locals>.TestKnown.runTest)\n",
      "----------------------------------------------------------------------\n",
      "Traceback (most recent call last):\n",
      "  File \"C:\\Users\\anafl\\ironhack\\lab-functions\\mod\\testing.py\", line 78, in runTest\n",
      "    self.assertEqual(fn(*self.input), self.output, f\"Should be {self.output}\")\n",
      "                     ^^^^^^^^^^^^^^^\n",
      "TypeError: oper_all() missing 1 required keyword-only argument: 'oper'\n",
      "\n",
      "======================================================================\n",
      "ERROR: runTest (mod.testing.test_operations.<locals>.TestKnown.runTest)\n",
      "----------------------------------------------------------------------\n",
      "Traceback (most recent call last):\n",
      "  File \"C:\\Users\\anafl\\ironhack\\lab-functions\\mod\\testing.py\", line 78, in runTest\n",
      "    self.assertEqual(fn(*self.input), self.output, f\"Should be {self.output}\")\n",
      "                     ^^^^^^^^^^^^^^^\n",
      "TypeError: oper_all() missing 1 required keyword-only argument: 'oper'\n",
      "\n"
     ]
    },
    {
     "name": "stderr",
     "output_type": "stream",
     "text": [
      "======================================================================\n",
      "ERROR: runTest (mod.testing.test_operations.<locals>.TestKnown.runTest)\n",
      "----------------------------------------------------------------------\n",
      "Traceback (most recent call last):\n",
      "  File \"C:\\Users\\anafl\\ironhack\\lab-functions\\mod\\testing.py\", line 78, in runTest\n",
      "    self.assertEqual(fn(*self.input), self.output, f\"Should be {self.output}\")\n",
      "                     ^^^^^^^^^^^^^^^\n",
      "TypeError: oper_all() missing 1 required keyword-only argument: 'oper'\n",
      "\n",
      "======================================================================\n",
      "ERROR: runTest (mod.testing.test_operations.<locals>.TestKnown.runTest)\n",
      "----------------------------------------------------------------------\n",
      "Traceback (most recent call last):\n",
      "  File \"C:\\Users\\anafl\\ironhack\\lab-functions\\mod\\testing.py\", line 78, in runTest\n",
      "    self.assertEqual(fn(*self.input), self.output, f\"Should be {self.output}\")\n",
      "                     ^^^^^^^^^^^^^^^\n",
      "TypeError: oper_all() missing 1 required keyword-only argument: 'oper'\n",
      "\n",
      "======================================================================\n",
      "ERROR: runTest (mod.testing.test_operations.<locals>.TestKnown.runTest)\n",
      "----------------------------------------------------------------------\n",
      "Traceback (most recent call last):\n",
      "  File \"C:\\Users\\anafl\\ironhack\\lab-functions\\mod\\testing.py\", line 78, in runTest\n",
      "    self.assertEqual(fn(*self.input), self.output, f\"Should be {self.output}\")\n",
      "                     ^^^^^^^^^^^^^^^\n",
      "TypeError: oper_all() missing 1 required keyword-only argument: 'oper'\n",
      "\n",
      "======================================================================\n",
      "ERROR: runTest (mod.testing.test_operations.<locals>.TestKnown.runTest)\n",
      "----------------------------------------------------------------------\n",
      "Traceback (most recent call last):\n",
      "  File \"C:\\Users\\anafl\\ironhack\\lab-functions\\mod\\testing.py\", line 78, in runTest\n",
      "    self.assertEqual(fn(*self.input), self.output, f\"Should be {self.output}\")\n",
      "                     ^^^^^^^^^^^^^^^\n",
      "TypeError: oper_all() missing 1 required keyword-only argument: 'oper'\n",
      "\n",
      "======================================================================\n",
      "ERROR: runTest (mod.testing.test_operations.<locals>.TestKnown.runTest)\n",
      "----------------------------------------------------------------------\n",
      "Traceback (most recent call last):\n",
      "  File \"C:\\Users\\anafl\\ironhack\\lab-functions\\mod\\testing.py\", line 78, in runTest\n",
      "    self.assertEqual(fn(*self.input), self.output, f\"Should be {self.output}\")\n",
      "                     ^^^^^^^^^^^^^^^\n",
      "TypeError: oper_all() missing 1 required keyword-only argument: 'oper'\n",
      "\n",
      "======================================================================\n",
      "ERROR: runTest (mod.testing.test_operations.<locals>.TestKnown.runTest)\n",
      "----------------------------------------------------------------------\n",
      "Traceback (most recent call last):\n",
      "  File \"C:\\Users\\anafl\\ironhack\\lab-functions\\mod\\testing.py\", line 78, in runTest\n",
      "    self.assertEqual(fn(*self.input), self.output, f\"Should be {self.output}\")\n",
      "                     ^^^^^^^^^^^^^^^\n",
      "TypeError: oper_all() missing 1 required keyword-only argument: 'oper'\n",
      "\n",
      "======================================================================\n",
      "ERROR: runTest (mod.testing.test_operations.<locals>.TestKnown.runTest)\n",
      "----------------------------------------------------------------------\n",
      "Traceback (most recent call last):\n",
      "  File \"C:\\Users\\anafl\\ironhack\\lab-functions\\mod\\testing.py\", line 78, in runTest\n",
      "    self.assertEqual(fn(*self.input), self.output, f\"Should be {self.output}\")\n",
      "                     ^^^^^^^^^^^^^^^\n",
      "TypeError: oper_all() missing 1 required keyword-only argument: 'oper'\n",
      "\n",
      "======================================================================\n",
      "ERROR: runTest (mod.testing.test_operations.<locals>.TestKnown.runTest)\n",
      "----------------------------------------------------------------------\n",
      "Traceback (most recent call last):\n",
      "  File \"C:\\Users\\anafl\\ironhack\\lab-functions\\mod\\testing.py\", line 78, in runTest\n",
      "    self.assertEqual(fn(*self.input), self.output, f\"Should be {self.output}\")\n",
      "                     ^^^^^^^^^^^^^^^\n",
      "TypeError: oper_all() missing 1 required keyword-only argument: 'oper'\n",
      "\n",
      "======================================================================\n",
      "ERROR: runTest (mod.testing.test_operations.<locals>.TestKnown.runTest)\n",
      "----------------------------------------------------------------------\n",
      "Traceback (most recent call last):\n",
      "  File \"C:\\Users\\anafl\\ironhack\\lab-functions\\mod\\testing.py\", line 78, in runTest\n",
      "    self.assertEqual(fn(*self.input), self.output, f\"Should be {self.output}\")\n",
      "                     ^^^^^^^^^^^^^^^\n",
      "TypeError: oper_all() missing 1 required keyword-only argument: 'oper'\n",
      "\n",
      "======================================================================\n",
      "ERROR: runTest (mod.testing.test_operations.<locals>.TestKnown.runTest)\n",
      "----------------------------------------------------------------------\n",
      "Traceback (most recent call last):\n",
      "  File \"C:\\Users\\anafl\\ironhack\\lab-functions\\mod\\testing.py\", line 78, in runTest\n",
      "    self.assertEqual(fn(*self.input), self.output, f\"Should be {self.output}\")\n",
      "                     ^^^^^^^^^^^^^^^\n",
      "TypeError: oper_all() missing 1 required keyword-only argument: 'oper'\n",
      "\n",
      "======================================================================\n",
      "ERROR: runTest (mod.testing.test_operations.<locals>.TestKnown.runTest)\n",
      "----------------------------------------------------------------------\n",
      "Traceback (most recent call last):\n",
      "  File \"C:\\Users\\anafl\\ironhack\\lab-functions\\mod\\testing.py\", line 78, in runTest\n",
      "    self.assertEqual(fn(*self.input), self.output, f\"Should be {self.output}\")\n",
      "                     ^^^^^^^^^^^^^^^\n",
      "TypeError: oper_all() missing 1 required keyword-only argument: 'oper'\n",
      "\n",
      "======================================================================\n",
      "ERROR: runTest (mod.testing.test_operations.<locals>.TestKnown.runTest)\n",
      "----------------------------------------------------------------------\n",
      "Traceback (most recent call last):\n",
      "  File \"C:\\Users\\anafl\\ironhack\\lab-functions\\mod\\testing.py\", line 78, in runTest\n",
      "    self.assertEqual(fn(*self.input), self.output, f\"Should be {self.output}\")\n",
      "                     ^^^^^^^^^^^^^^^\n",
      "TypeError: oper_all() missing 1 required keyword-only argument: 'oper'\n",
      "\n",
      "======================================================================\n",
      "ERROR: runTest (mod.testing.test_operations.<locals>.TestKnown.runTest)\n",
      "----------------------------------------------------------------------\n",
      "Traceback (most recent call last):\n",
      "  File \"C:\\Users\\anafl\\ironhack\\lab-functions\\mod\\testing.py\", line 78, in runTest\n",
      "    self.assertEqual(fn(*self.input), self.output, f\"Should be {self.output}\")\n",
      "                     ^^^^^^^^^^^^^^^\n",
      "TypeError: oper_all() missing 1 required keyword-only argument: 'oper'\n",
      "\n",
      "======================================================================\n",
      "ERROR: runTest (mod.testing.test_operations.<locals>.TestKnown.runTest)\n",
      "----------------------------------------------------------------------\n",
      "Traceback (most recent call last):\n",
      "  File \"C:\\Users\\anafl\\ironhack\\lab-functions\\mod\\testing.py\", line 78, in runTest\n",
      "    self.assertEqual(fn(*self.input), self.output, f\"Should be {self.output}\")\n",
      "                     ^^^^^^^^^^^^^^^\n",
      "TypeError: oper_all() missing 1 required keyword-only argument: 'oper'\n",
      "\n",
      "======================================================================\n",
      "ERROR: runTest (mod.testing.test_operations.<locals>.TestKnown.runTest)\n",
      "----------------------------------------------------------------------\n",
      "Traceback (most recent call last):\n",
      "  File \"C:\\Users\\anafl\\ironhack\\lab-functions\\mod\\testing.py\", line 78, in runTest\n",
      "    self.assertEqual(fn(*self.input), self.output, f\"Should be {self.output}\")\n",
      "                     ^^^^^^^^^^^^^^^\n",
      "TypeError: oper_all() missing 1 required keyword-only argument: 'oper'\n",
      "\n",
      "======================================================================\n",
      "ERROR: runTest (mod.testing.test_operations.<locals>.TestKnown.runTest)\n",
      "----------------------------------------------------------------------\n",
      "Traceback (most recent call last):\n",
      "  File \"C:\\Users\\anafl\\ironhack\\lab-functions\\mod\\testing.py\", line 78, in runTest\n",
      "    self.assertEqual(fn(*self.input), self.output, f\"Should be {self.output}\")\n",
      "                     ^^^^^^^^^^^^^^^\n",
      "TypeError: oper_all() missing 1 required keyword-only argument: 'oper'\n",
      "\n"
     ]
    },
    {
     "name": "stderr",
     "output_type": "stream",
     "text": [
      "======================================================================\n",
      "ERROR: runTest (mod.testing.test_operations.<locals>.TestKnown.runTest)\n",
      "----------------------------------------------------------------------\n",
      "Traceback (most recent call last):\n",
      "  File \"C:\\Users\\anafl\\ironhack\\lab-functions\\mod\\testing.py\", line 78, in runTest\n",
      "    self.assertEqual(fn(*self.input), self.output, f\"Should be {self.output}\")\n",
      "                     ^^^^^^^^^^^^^^^\n",
      "TypeError: oper_all() missing 1 required keyword-only argument: 'oper'\n",
      "\n",
      "======================================================================\n",
      "ERROR: runTest (mod.testing.test_operations.<locals>.TestKnown.runTest)\n",
      "----------------------------------------------------------------------\n",
      "Traceback (most recent call last):\n",
      "  File \"C:\\Users\\anafl\\ironhack\\lab-functions\\mod\\testing.py\", line 78, in runTest\n",
      "    self.assertEqual(fn(*self.input), self.output, f\"Should be {self.output}\")\n",
      "                     ^^^^^^^^^^^^^^^\n",
      "TypeError: oper_all() missing 1 required keyword-only argument: 'oper'\n",
      "\n",
      "======================================================================\n",
      "ERROR: runTest (mod.testing.test_operations.<locals>.TestKnown.runTest)\n",
      "----------------------------------------------------------------------\n",
      "Traceback (most recent call last):\n",
      "  File \"C:\\Users\\anafl\\ironhack\\lab-functions\\mod\\testing.py\", line 78, in runTest\n",
      "    self.assertEqual(fn(*self.input), self.output, f\"Should be {self.output}\")\n",
      "                     ^^^^^^^^^^^^^^^\n",
      "TypeError: oper_all() missing 1 required keyword-only argument: 'oper'\n",
      "\n",
      "======================================================================\n",
      "ERROR: runTest (mod.testing.test_operations.<locals>.TestKnown.runTest)\n",
      "----------------------------------------------------------------------\n",
      "Traceback (most recent call last):\n",
      "  File \"C:\\Users\\anafl\\ironhack\\lab-functions\\mod\\testing.py\", line 78, in runTest\n",
      "    self.assertEqual(fn(*self.input), self.output, f\"Should be {self.output}\")\n",
      "                     ^^^^^^^^^^^^^^^\n",
      "TypeError: oper_all() missing 1 required keyword-only argument: 'oper'\n",
      "\n",
      "======================================================================\n",
      "ERROR: runTest (mod.testing.test_operations.<locals>.TestKnown.runTest)\n",
      "----------------------------------------------------------------------\n",
      "Traceback (most recent call last):\n",
      "  File \"C:\\Users\\anafl\\ironhack\\lab-functions\\mod\\testing.py\", line 78, in runTest\n",
      "    self.assertEqual(fn(*self.input), self.output, f\"Should be {self.output}\")\n",
      "                     ^^^^^^^^^^^^^^^\n",
      "TypeError: oper_all() missing 1 required keyword-only argument: 'oper'\n",
      "\n",
      "======================================================================\n",
      "ERROR: runTest (mod.testing.test_operations.<locals>.TestKnown.runTest)\n",
      "----------------------------------------------------------------------\n",
      "Traceback (most recent call last):\n",
      "  File \"C:\\Users\\anafl\\ironhack\\lab-functions\\mod\\testing.py\", line 78, in runTest\n",
      "    self.assertEqual(fn(*self.input), self.output, f\"Should be {self.output}\")\n",
      "                     ^^^^^^^^^^^^^^^\n",
      "TypeError: oper_all() missing 1 required keyword-only argument: 'oper'\n",
      "\n",
      "======================================================================\n",
      "ERROR: runTest (mod.testing.test_operations.<locals>.TestKnown.runTest)\n",
      "----------------------------------------------------------------------\n",
      "Traceback (most recent call last):\n",
      "  File \"C:\\Users\\anafl\\ironhack\\lab-functions\\mod\\testing.py\", line 78, in runTest\n",
      "    self.assertEqual(fn(*self.input), self.output, f\"Should be {self.output}\")\n",
      "                     ^^^^^^^^^^^^^^^\n",
      "TypeError: oper_all() missing 1 required keyword-only argument: 'oper'\n",
      "\n",
      "======================================================================\n",
      "ERROR: runTest (mod.testing.test_operations.<locals>.TestKnown.runTest)\n",
      "----------------------------------------------------------------------\n",
      "Traceback (most recent call last):\n",
      "  File \"C:\\Users\\anafl\\ironhack\\lab-functions\\mod\\testing.py\", line 78, in runTest\n",
      "    self.assertEqual(fn(*self.input), self.output, f\"Should be {self.output}\")\n",
      "                     ^^^^^^^^^^^^^^^\n",
      "TypeError: oper_all() missing 1 required keyword-only argument: 'oper'\n",
      "\n",
      "======================================================================\n",
      "ERROR: runTest (mod.testing.test_operations.<locals>.TestKnown.runTest)\n",
      "----------------------------------------------------------------------\n",
      "Traceback (most recent call last):\n",
      "  File \"C:\\Users\\anafl\\ironhack\\lab-functions\\mod\\testing.py\", line 78, in runTest\n",
      "    self.assertEqual(fn(*self.input), self.output, f\"Should be {self.output}\")\n",
      "                     ^^^^^^^^^^^^^^^\n",
      "TypeError: oper_all() missing 1 required keyword-only argument: 'oper'\n",
      "\n",
      "======================================================================\n",
      "ERROR: runTest (mod.testing.test_operations.<locals>.TestKnown.runTest)\n",
      "----------------------------------------------------------------------\n",
      "Traceback (most recent call last):\n",
      "  File \"C:\\Users\\anafl\\ironhack\\lab-functions\\mod\\testing.py\", line 78, in runTest\n",
      "    self.assertEqual(fn(*self.input), self.output, f\"Should be {self.output}\")\n",
      "                     ^^^^^^^^^^^^^^^\n",
      "TypeError: oper_all() missing 1 required keyword-only argument: 'oper'\n",
      "\n",
      "======================================================================\n",
      "ERROR: runTest (mod.testing.test_operations.<locals>.TestKnown.runTest)\n",
      "----------------------------------------------------------------------\n",
      "Traceback (most recent call last):\n",
      "  File \"C:\\Users\\anafl\\ironhack\\lab-functions\\mod\\testing.py\", line 78, in runTest\n",
      "    self.assertEqual(fn(*self.input), self.output, f\"Should be {self.output}\")\n",
      "                     ^^^^^^^^^^^^^^^\n",
      "TypeError: oper_all() missing 1 required keyword-only argument: 'oper'\n",
      "\n",
      "======================================================================\n",
      "ERROR: runTest (mod.testing.test_operations.<locals>.TestKnown.runTest)\n",
      "----------------------------------------------------------------------\n",
      "Traceback (most recent call last):\n",
      "  File \"C:\\Users\\anafl\\ironhack\\lab-functions\\mod\\testing.py\", line 78, in runTest\n",
      "    self.assertEqual(fn(*self.input), self.output, f\"Should be {self.output}\")\n",
      "                     ^^^^^^^^^^^^^^^\n",
      "TypeError: oper_all() missing 1 required keyword-only argument: 'oper'\n",
      "\n",
      "======================================================================\n",
      "ERROR: runTest (mod.testing.test_operations.<locals>.TestKnown.runTest)\n",
      "----------------------------------------------------------------------\n",
      "Traceback (most recent call last):\n",
      "  File \"C:\\Users\\anafl\\ironhack\\lab-functions\\mod\\testing.py\", line 78, in runTest\n",
      "    self.assertEqual(fn(*self.input), self.output, f\"Should be {self.output}\")\n",
      "                     ^^^^^^^^^^^^^^^\n",
      "TypeError: oper_all() missing 1 required keyword-only argument: 'oper'\n",
      "\n",
      "======================================================================\n",
      "ERROR: runTest (mod.testing.test_operations.<locals>.TestKnown.runTest)\n",
      "----------------------------------------------------------------------\n",
      "Traceback (most recent call last):\n",
      "  File \"C:\\Users\\anafl\\ironhack\\lab-functions\\mod\\testing.py\", line 78, in runTest\n",
      "    self.assertEqual(fn(*self.input), self.output, f\"Should be {self.output}\")\n",
      "                     ^^^^^^^^^^^^^^^\n",
      "TypeError: oper_all() missing 1 required keyword-only argument: 'oper'\n",
      "\n",
      "======================================================================\n",
      "ERROR: runTest (mod.testing.test_operations.<locals>.TestKnown.runTest)\n",
      "----------------------------------------------------------------------\n",
      "Traceback (most recent call last):\n",
      "  File \"C:\\Users\\anafl\\ironhack\\lab-functions\\mod\\testing.py\", line 78, in runTest\n",
      "    self.assertEqual(fn(*self.input), self.output, f\"Should be {self.output}\")\n",
      "                     ^^^^^^^^^^^^^^^\n",
      "TypeError: oper_all() missing 1 required keyword-only argument: 'oper'\n",
      "\n",
      "======================================================================\n",
      "ERROR: runTest (mod.testing.test_operations.<locals>.TestKnown.runTest)\n",
      "----------------------------------------------------------------------\n",
      "Traceback (most recent call last):\n",
      "  File \"C:\\Users\\anafl\\ironhack\\lab-functions\\mod\\testing.py\", line 78, in runTest\n",
      "    self.assertEqual(fn(*self.input), self.output, f\"Should be {self.output}\")\n",
      "                     ^^^^^^^^^^^^^^^\n",
      "TypeError: oper_all() missing 1 required keyword-only argument: 'oper'\n",
      "\n"
     ]
    },
    {
     "name": "stderr",
     "output_type": "stream",
     "text": [
      "======================================================================\n",
      "ERROR: runTest (mod.testing.test_operations.<locals>.TestKnown.runTest)\n",
      "----------------------------------------------------------------------\n",
      "Traceback (most recent call last):\n",
      "  File \"C:\\Users\\anafl\\ironhack\\lab-functions\\mod\\testing.py\", line 78, in runTest\n",
      "    self.assertEqual(fn(*self.input), self.output, f\"Should be {self.output}\")\n",
      "                     ^^^^^^^^^^^^^^^\n",
      "TypeError: oper_all() missing 1 required keyword-only argument: 'oper'\n",
      "\n",
      "======================================================================\n",
      "ERROR: runTest (mod.testing.test_operations.<locals>.TestKnown.runTest)\n",
      "----------------------------------------------------------------------\n",
      "Traceback (most recent call last):\n",
      "  File \"C:\\Users\\anafl\\ironhack\\lab-functions\\mod\\testing.py\", line 78, in runTest\n",
      "    self.assertEqual(fn(*self.input), self.output, f\"Should be {self.output}\")\n",
      "                     ^^^^^^^^^^^^^^^\n",
      "TypeError: oper_all() missing 1 required keyword-only argument: 'oper'\n",
      "\n",
      "======================================================================\n",
      "ERROR: runTest (mod.testing.test_operations.<locals>.TestKnown.runTest)\n",
      "----------------------------------------------------------------------\n",
      "Traceback (most recent call last):\n",
      "  File \"C:\\Users\\anafl\\ironhack\\lab-functions\\mod\\testing.py\", line 78, in runTest\n",
      "    self.assertEqual(fn(*self.input), self.output, f\"Should be {self.output}\")\n",
      "                     ^^^^^^^^^^^^^^^\n",
      "TypeError: oper_all() missing 1 required keyword-only argument: 'oper'\n",
      "\n",
      "======================================================================\n",
      "ERROR: runTest (mod.testing.test_operations.<locals>.TestKnown.runTest)\n",
      "----------------------------------------------------------------------\n",
      "Traceback (most recent call last):\n",
      "  File \"C:\\Users\\anafl\\ironhack\\lab-functions\\mod\\testing.py\", line 78, in runTest\n",
      "    self.assertEqual(fn(*self.input), self.output, f\"Should be {self.output}\")\n",
      "                     ^^^^^^^^^^^^^^^\n",
      "TypeError: oper_all() missing 1 required keyword-only argument: 'oper'\n",
      "\n",
      "----------------------------------------------------------------------\n",
      "Ran 100 tests in 0.182s\n",
      "\n",
      "FAILED (errors=100)\n"
     ]
    }
   ],
   "source": [
    "# This will test your function \n",
    "test_operations(oper_all)"
   ]
  },
  {
   "cell_type": "markdown",
   "metadata": {},
   "source": [
    "## 6. Write a function that returns the factorial of a number."
   ]
  },
  {
   "cell_type": "code",
   "execution_count": 54,
   "metadata": {},
   "outputs": [],
   "source": [
    "def factorial(n):\n",
    "    z = 1\n",
    "    for i in range(1, (n+1)):\n",
    "        z *= i\n",
    "    \n",
    "    return z"
   ]
  },
  {
   "cell_type": "code",
   "execution_count": 55,
   "metadata": {},
   "outputs": [
    {
     "data": {
      "text/plain": [
       "5040"
      ]
     },
     "execution_count": 55,
     "metadata": {},
     "output_type": "execute_result"
    }
   ],
   "source": [
    "factorial(7)"
   ]
  },
  {
   "cell_type": "code",
   "execution_count": 56,
   "metadata": {},
   "outputs": [
    {
     "name": "stderr",
     "output_type": "stream",
     "text": [
      "....................................................................................................\n",
      "----------------------------------------------------------------------\n",
      "Ran 100 tests in 0.138s\n",
      "\n",
      "OK\n"
     ]
    }
   ],
   "source": [
    "# This will test your function \n",
    "test_factorial(factorial)"
   ]
  },
  {
   "cell_type": "markdown",
   "metadata": {},
   "source": [
    "## 7. Write a function that takes a list and returns a list of the unique values.\n",
    "\n",
    "`NOTE: You cannot use set. 🤔`"
   ]
  },
  {
   "cell_type": "code",
   "execution_count": 79,
   "metadata": {},
   "outputs": [],
   "source": [
    "def unique(arr):\n",
    "    new_list = []\n",
    "    for i in arr:\n",
    "        if i in new_list:\n",
    "            pass\n",
    "        else:\n",
    "            new_list.append(i)\n",
    "    return new_list"
   ]
  },
  {
   "cell_type": "code",
   "execution_count": 86,
   "metadata": {},
   "outputs": [],
   "source": [
    "def unique(arr):\n",
    "    new_list = []\n",
    "    \n",
    "    for i in arr:\n",
    "        if i != new_list:\n",
    "            new_list = new_list + [i]\n",
    "    return new_list"
   ]
  },
  {
   "cell_type": "code",
   "execution_count": 87,
   "metadata": {},
   "outputs": [
    {
     "ename": "TypeError",
     "evalue": "unique() takes 1 positional argument but 4 were given",
     "output_type": "error",
     "traceback": [
      "\u001b[1;31m---------------------------------------------------------------------------\u001b[0m",
      "\u001b[1;31mTypeError\u001b[0m                                 Traceback (most recent call last)",
      "Cell \u001b[1;32mIn[87], line 1\u001b[0m\n\u001b[1;32m----> 1\u001b[0m unique(\u001b[38;5;241m2\u001b[39m,\u001b[38;5;241m2\u001b[39m,\u001b[38;5;241m2\u001b[39m,\u001b[38;5;241m5\u001b[39m)\n",
      "\u001b[1;31mTypeError\u001b[0m: unique() takes 1 positional argument but 4 were given"
     ]
    }
   ],
   "source": [
    "unique(2,2,2,5)"
   ]
  },
  {
   "cell_type": "code",
   "execution_count": 88,
   "metadata": {},
   "outputs": [
    {
     "name": "stderr",
     "output_type": "stream",
     "text": [
      "....................................................................................................\n",
      "----------------------------------------------------------------------\n",
      "Ran 100 tests in 0.247s\n",
      "\n",
      "OK\n"
     ]
    }
   ],
   "source": [
    "# This will test your function \n",
    "test_unique(unique)"
   ]
  },
  {
   "cell_type": "markdown",
   "metadata": {},
   "source": [
    "## 8. Write a function that calculates the standard deviation of a list.\n",
    "`NOTE: Do not use any libraries or already built functions. 😉`"
   ]
  },
  {
   "cell_type": "code",
   "execution_count": 137,
   "metadata": {},
   "outputs": [],
   "source": [
    "def st_dev(arr):\n",
    "    \n",
    "    #do the mean\n",
    "    counter = 0 \n",
    "    sum_value = 0\n",
    "    \n",
    "    for i in arr:\n",
    "        counter += 1\n",
    "    for i in arr:\n",
    "        sum_value += i\n",
    "    \n",
    "    media = sum_value / counter\n",
    "    \n",
    "    #square the deviation from the mean and sum\n",
    "    sum_square = 0 \n",
    "    for i in arr:\n",
    "        deviation_mean = i - media\n",
    "        square_deviation = deviation_mean**2\n",
    "        sum_square += square_deviation\n",
    "        \n",
    "    #variance\n",
    "    variance = sum_square/(counter - 1)\n",
    "    \n",
    "    #square root\n",
    "    \n",
    "    standar_deviation = variance**0.5\n",
    "    \n",
    "    return standar_deviation\n",
    "    "
   ]
  },
  {
   "cell_type": "code",
   "execution_count": 138,
   "metadata": {},
   "outputs": [],
   "source": [
    "lista = [1, 3, 5, 7, 9, 11]"
   ]
  },
  {
   "cell_type": "code",
   "execution_count": 139,
   "metadata": {},
   "outputs": [
    {
     "name": "stdout",
     "output_type": "stream",
     "text": [
      "3.7416573867739413\n"
     ]
    }
   ],
   "source": [
    "print(st_dev(lista))"
   ]
  },
  {
   "cell_type": "code",
   "execution_count": 125,
   "metadata": {},
   "outputs": [
    {
     "data": {
      "text/plain": [
       "3.7416573867739413"
      ]
     },
     "execution_count": 125,
     "metadata": {},
     "output_type": "execute_result"
    }
   ],
   "source": [
    "# This will test your function\n",
    "#test_stdev(st_dev)\n",
    "\n",
    "# Our tests need to be improved, so for this exercise, we care about the code itself. You may check if you get\n",
    "# similar results by checking with:\n",
    "\n",
    "from statistics import stdev\n",
    "\n",
    "stdev([1, 3, 5, 7, 9, 11])\n"
   ]
  },
  {
   "cell_type": "markdown",
   "metadata": {},
   "source": [
    "## 9. Write a function to check if a string is a pangram, i.e.: if it contains all the letters of the alphabet at least once. Mind that the strings may contain characters that are not letters."
   ]
  },
  {
   "cell_type": "code",
   "execution_count": 201,
   "metadata": {},
   "outputs": [],
   "source": [
    "def pangram(string):\n",
    "    \n",
    "    alfabeto = \"abcdefghijklmnopqrstuvwxyz\"\n",
    "    counter = 0\n",
    "    num_alf = 26\n",
    "    string = string.lower()\n",
    "    \n",
    "    for i in alfabeto:\n",
    "        if i in string:\n",
    "            counter += 1\n",
    "        \n",
    "    return counter == num_alf"
   ]
  },
  {
   "cell_type": "code",
   "execution_count": 202,
   "metadata": {},
   "outputs": [
    {
     "name": "stderr",
     "output_type": "stream",
     "text": [
      "..............................\n",
      "----------------------------------------------------------------------\n",
      "Ran 30 tests in 0.031s\n",
      "\n",
      "OK\n"
     ]
    }
   ],
   "source": [
    "# This will test your function \n",
    "test_pangram(pangram)"
   ]
  },
  {
   "cell_type": "markdown",
   "metadata": {},
   "source": [
    "## 10. Write a function to check if a given password is strong (at least 8 characters, at least one lower case, at least one upper case, at least one number and at least one special character). It should output True if strong and False if not.\n",
    "`Valid special characters: # @ ! $ % & ( ) ^ * [ ] { }`"
   ]
  },
  {
   "cell_type": "code",
   "execution_count": 180,
   "metadata": {},
   "outputs": [],
   "source": [
    "def check_pass(string):\n",
    "    least_8 = False\n",
    "    one_lower = False \n",
    "    one_upper = False\n",
    "    one_number = False\n",
    "    one_special = False\n",
    "    \n",
    "    #least 8\n",
    "    if len(string) >= 8:\n",
    "        least_8 = True\n",
    "        \n",
    "    for i in string:\n",
    "        if i.islower():\n",
    "            one_lower = True\n",
    "            break\n",
    "        \n",
    "    #least one upper case\n",
    "    for i in string:\n",
    "        if i.isupper():\n",
    "            one_upper = True\n",
    "            break\n",
    "            \n",
    "    for i in string:\n",
    "        if i.isdigit():\n",
    "            one_number = True\n",
    "            break      \n",
    "    \n",
    "    for i in string:\n",
    "        if i in '# @ ! $ % & ( ) ^ * [ ] { }':\n",
    "            one_special= True\n",
    "            break\n",
    "        #if i == \"#\" or i == \"@\" or i == \"!\" or i == \"$\" or i == \"%\" or i == \"&\" or i == \"(\" or i == \")\" or i == \"^\" or i == \"*\" or i == \"[\" or i == \"]\" or i == \"{\" or i == \"}\" or i == \"`\":\n",
    "            #one_special= True\n",
    "            \n",
    "    if least_8 and one_lower  and one_upper and one_number and one_special:\n",
    "        return True\n",
    "    \n",
    "    return False\n",
    "    \n",
    "        "
   ]
  },
  {
   "cell_type": "code",
   "execution_count": 181,
   "metadata": {},
   "outputs": [
    {
     "data": {
      "text/plain": [
       "True"
      ]
     },
     "execution_count": 181,
     "metadata": {},
     "output_type": "execute_result"
    }
   ],
   "source": [
    "check_pass(\"(Jbjhkj8\")"
   ]
  },
  {
   "cell_type": "code",
   "execution_count": 182,
   "metadata": {},
   "outputs": [
    {
     "name": "stderr",
     "output_type": "stream",
     "text": [
      "....................................................................................................\n",
      "----------------------------------------------------------------------\n",
      "Ran 100 tests in 0.080s\n",
      "\n",
      "OK\n"
     ]
    }
   ],
   "source": [
    "# This will test your function \n",
    "test_pass(check_pass)"
   ]
  },
  {
   "cell_type": "markdown",
   "metadata": {},
   "source": [
    "## BONUS"
   ]
  },
  {
   "cell_type": "markdown",
   "metadata": {},
   "source": [
    "## 11. Write a function that returns the mode of a list, i.e.: the element that appears the most times.\n",
    "`NOTE: You should not use count... 🧐`"
   ]
  },
  {
   "cell_type": "code",
   "execution_count": null,
   "metadata": {},
   "outputs": [],
   "source": [
    "def mode_counter(arr):\n",
    "    pass"
   ]
  },
  {
   "cell_type": "code",
   "execution_count": null,
   "metadata": {},
   "outputs": [],
   "source": [
    "# This will test your function \n",
    "test_mode(mode_counter)"
   ]
  },
  {
   "cell_type": "markdown",
   "metadata": {},
   "source": [
    "## 12. Write a function that receives a string of comma separated words and returns a string of comma separated words sorted alphabetically.\n",
    "\n",
    "`NOTE: You may use sorted but not split and definitely no join! 🤪`"
   ]
  },
  {
   "cell_type": "code",
   "execution_count": null,
   "metadata": {},
   "outputs": [],
   "source": [
    "def sort_alpha(string):\n",
    "    pass"
   ]
  },
  {
   "cell_type": "code",
   "execution_count": null,
   "metadata": {},
   "outputs": [],
   "source": [
    "# This will test your function \n",
    "test_alpha(sort_alpha)"
   ]
  }
 ],
 "metadata": {
  "kernelspec": {
   "display_name": "Python 3 (ipykernel)",
   "language": "python",
   "name": "python3"
  },
  "language_info": {
   "codemirror_mode": {
    "name": "ipython",
    "version": 3
   },
   "file_extension": ".py",
   "mimetype": "text/x-python",
   "name": "python",
   "nbconvert_exporter": "python",
   "pygments_lexer": "ipython3",
   "version": "3.11.4"
  },
  "toc": {
   "base_numbering": 1,
   "nav_menu": {},
   "number_sections": true,
   "sideBar": true,
   "skip_h1_title": false,
   "title_cell": "Table of Contents",
   "title_sidebar": "Contents",
   "toc_cell": false,
   "toc_position": {},
   "toc_section_display": true,
   "toc_window_display": false
  }
 },
 "nbformat": 4,
 "nbformat_minor": 4
}
