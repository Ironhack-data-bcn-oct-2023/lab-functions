{
 "cells": [
  {
   "cell_type": "markdown",
   "metadata": {},
   "source": [
    "# Functions"
   ]
  },
  {
   "cell_type": "markdown",
   "metadata": {},
   "source": [
    "On this lab we will put to practice some of the concepts we have learned on this past few days.\n",
    "\n",
    "`NOTE: On this lab you should try to write all the functions yourself using only the most basic of python syntax and without functions such as len, count, sum, max, min, in, etc. Give it a try. 🧑🏻‍💻👩🏻‍💻`\n",
    "\n",
    "The cell after each exercise contains a few tests to check if your function works as expected."
   ]
  },
  {
   "cell_type": "code",
   "execution_count": 1,
   "metadata": {},
   "outputs": [],
   "source": [
    "from mod.testing import *\n",
    "import unittest"
   ]
  },
  {
   "cell_type": "markdown",
   "metadata": {},
   "source": [
    "## 1. Write a function that returns the greater of two numbers"
   ]
  },
  {
   "cell_type": "code",
   "execution_count": 2,
   "metadata": {},
   "outputs": [],
   "source": [
    "def greater(a,b):\n",
    "    c=0\n",
    "    if a > b:\n",
    "        return a\n",
    "    else:\n",
    "        return b"
   ]
  },
  {
   "cell_type": "code",
   "execution_count": 3,
   "metadata": {},
   "outputs": [
    {
     "name": "stderr",
     "output_type": "stream",
     "text": [
      "....................................................................................................\n",
      "----------------------------------------------------------------------\n",
      "Ran 100 tests in 0.049s\n",
      "\n",
      "OK\n"
     ]
    }
   ],
   "source": [
    "# This will test your function \n",
    "test_greater(greater)"
   ]
  },
  {
   "cell_type": "markdown",
   "metadata": {},
   "source": [
    "## 2. Now write a function that returns the largest element on a list"
   ]
  },
  {
   "cell_type": "code",
   "execution_count": 4,
   "metadata": {},
   "outputs": [],
   "source": [
    "def greatest(list):\n",
    "    largest_element = 0\n",
    "    for element in list:\n",
    "        if element > largest_element:\n",
    "            largest_element = element\n",
    "    return largest_element\n",
    "        "
   ]
  },
  {
   "cell_type": "code",
   "execution_count": 5,
   "metadata": {},
   "outputs": [
    {
     "name": "stderr",
     "output_type": "stream",
     "text": [
      "....................................................................................................\n",
      "----------------------------------------------------------------------\n",
      "Ran 100 tests in 0.042s\n",
      "\n",
      "OK\n"
     ]
    }
   ],
   "source": [
    "# This will test your function \n",
    "test_greatest(greatest)"
   ]
  },
  {
   "cell_type": "markdown",
   "metadata": {},
   "source": [
    "## 3. Write a function that sums all the elements on a list"
   ]
  },
  {
   "cell_type": "code",
   "execution_count": 6,
   "metadata": {},
   "outputs": [],
   "source": [
    "def sum_all(num_list):\n",
    "    result = 0\n",
    "    for i in num_list:\n",
    "        result += i\n",
    "    return result"
   ]
  },
  {
   "cell_type": "code",
   "execution_count": 7,
   "metadata": {},
   "outputs": [
    {
     "name": "stderr",
     "output_type": "stream",
     "text": [
      "....................................................................................................\n",
      "----------------------------------------------------------------------\n",
      "Ran 100 tests in 0.043s\n",
      "\n",
      "OK\n"
     ]
    }
   ],
   "source": [
    "# This will test your function \n",
    "test_sum(sum_all)"
   ]
  },
  {
   "cell_type": "markdown",
   "metadata": {},
   "source": [
    "## 4. Write another function that multiplies all the elements on a list"
   ]
  },
  {
   "cell_type": "code",
   "execution_count": 8,
   "metadata": {},
   "outputs": [],
   "source": [
    "def mult_all(num_list):\n",
    "    result = 1\n",
    "    for i in num_list:\n",
    "        result *= i\n",
    "    return result\n",
    "        "
   ]
  },
  {
   "cell_type": "code",
   "execution_count": 9,
   "metadata": {},
   "outputs": [
    {
     "name": "stderr",
     "output_type": "stream",
     "text": [
      "....................................................................................................\n",
      "----------------------------------------------------------------------\n",
      "Ran 100 tests in 0.040s\n",
      "\n",
      "OK\n"
     ]
    }
   ],
   "source": [
    "# This will test your function \n",
    "test_mult(mult_all)"
   ]
  },
  {
   "cell_type": "markdown",
   "metadata": {},
   "source": [
    "## 5. Now combine those two ideas and write a function that receives a list and either \"+\" or \"*\" and outputs acordingly"
   ]
  },
  {
   "cell_type": "code",
   "execution_count": 10,
   "metadata": {},
   "outputs": [],
   "source": [
    "def oper_all(arr, oper):\n",
    "    if oper == \"+\":\n",
    "        return sum_all(arr)\n",
    "    if oper == \"*\":\n",
    "        return mult_all(arr)"
   ]
  },
  {
   "cell_type": "code",
   "execution_count": 11,
   "metadata": {},
   "outputs": [
    {
     "name": "stderr",
     "output_type": "stream",
     "text": [
      "....................................................................................................\n",
      "----------------------------------------------------------------------\n",
      "Ran 100 tests in 0.038s\n",
      "\n",
      "OK\n"
     ]
    }
   ],
   "source": [
    "# This will test your function \n",
    "test_operations(oper_all)"
   ]
  },
  {
   "cell_type": "markdown",
   "metadata": {},
   "source": [
    "## 6. Write a function that returns the factorial of a number."
   ]
  },
  {
   "cell_type": "code",
   "execution_count": 12,
   "metadata": {},
   "outputs": [],
   "source": [
    "def factorial(n):\n",
    "    factorial = 1\n",
    "    for i in range(1,n+1):\n",
    "        factorial *= i\n",
    "    return factorial"
   ]
  },
  {
   "cell_type": "code",
   "execution_count": 13,
   "metadata": {},
   "outputs": [
    {
     "name": "stderr",
     "output_type": "stream",
     "text": [
      "....................................................................................................\n",
      "----------------------------------------------------------------------\n",
      "Ran 100 tests in 0.039s\n",
      "\n",
      "OK\n"
     ]
    }
   ],
   "source": [
    "# This will test your function \n",
    "test_factorial(factorial)"
   ]
  },
  {
   "cell_type": "markdown",
   "metadata": {},
   "source": [
    "## 7. Write a function that takes a list and returns a list of the unique values.\n",
    "\n",
    "`NOTE: You cannot use set. 🤔`"
   ]
  },
  {
   "cell_type": "code",
   "execution_count": 14,
   "metadata": {},
   "outputs": [],
   "source": [
    "def unique(arr):\n",
    "    final_list =[]\n",
    "    for i in arr:\n",
    "        if i != final_list:\n",
    "            final_list += [i]\n",
    "    return final_list"
   ]
  },
  {
   "cell_type": "code",
   "execution_count": 15,
   "metadata": {
    "scrolled": true
   },
   "outputs": [
    {
     "name": "stderr",
     "output_type": "stream",
     "text": [
      "....................................................................................................\n",
      "----------------------------------------------------------------------\n",
      "Ran 100 tests in 0.054s\n",
      "\n",
      "OK\n"
     ]
    }
   ],
   "source": [
    "# This will test your function \n",
    "test_unique(unique)"
   ]
  },
  {
   "cell_type": "markdown",
   "metadata": {},
   "source": [
    "## 8. Write a function that calculates the standard deviation of a list.\n",
    "`NOTE: Do not use any libraries or already built functions. 😉`"
   ]
  },
  {
   "cell_type": "code",
   "execution_count": 16,
   "metadata": {},
   "outputs": [],
   "source": [
    "def st_dev(arr):\n",
    "    total = 0\n",
    "    counter = 0\n",
    "    sq_sum = 0\n",
    "    for i in arr:\n",
    "        counter += 1\n",
    "        total += i\n",
    "    mean=total/counter   \n",
    "    for i in arr:\n",
    "        sq_sum += ((i-mean)**2)\n",
    "        st_dev = (sq_sum/(counter-1))**(1/2)\n",
    "    return st_dev "
   ]
  },
  {
   "cell_type": "code",
   "execution_count": 17,
   "metadata": {},
   "outputs": [],
   "source": [
    "numbers_list=[1,54,45,852,45,45]\n"
   ]
  },
  {
   "cell_type": "code",
   "execution_count": 18,
   "metadata": {},
   "outputs": [],
   "source": [
    "# This will test your function\n",
    "#test_stdev(st_dev)\n",
    "\n",
    "# Our tests need to be improved, so for this exercise, we care about the code itself. You may check if you get\n",
    "# similar results by checking with:\n",
    "\n",
    "from statistics import stdev"
   ]
  },
  {
   "cell_type": "code",
   "execution_count": 19,
   "metadata": {},
   "outputs": [
    {
     "name": "stdout",
     "output_type": "stream",
     "text": [
      " using stdev the result is : 332.8469117577429\n",
      " using st_dev(arr) result is : 332.8469117577429\n"
     ]
    }
   ],
   "source": [
    "numbers_list=[1,54,45,852,45,45]\n",
    "print(\" using stdev the result is :\",stdev(numbers_list))\n",
    "print(\" using st_dev(arr) result is :\", st_dev(numbers_list))"
   ]
  },
  {
   "cell_type": "markdown",
   "metadata": {},
   "source": [
    "## 9. Write a function to check if a string is a pangram, i.e.: if it contains all the letters of the alphabet at least once. Mind that the strings may contain characters that are not letters."
   ]
  },
  {
   "cell_type": "code",
   "execution_count": 20,
   "metadata": {},
   "outputs": [],
   "source": [
    "def pangram(string):\n",
    "    alphabet=\"abcdefghijklmnopqrstuvxyz\"\n",
    "    alphabet_dict={}\n",
    "    low_str=string.lower()\n",
    "    for i in alphabet:\n",
    "        alphabet_dict[i]=0\n",
    "        if i in low_str:\n",
    "            alphabet_dict[i] +=1\n",
    "    if 0 in alphabet_dict.values():\n",
    "        return False\n",
    "    else:\n",
    "        return True\n",
    "\n"
   ]
  },
  {
   "cell_type": "code",
   "execution_count": 21,
   "metadata": {},
   "outputs": [
    {
     "name": "stderr",
     "output_type": "stream",
     "text": [
      "..............................\n",
      "----------------------------------------------------------------------\n",
      "Ran 30 tests in 0.012s\n",
      "\n",
      "OK\n"
     ]
    }
   ],
   "source": [
    "# This will test your function \n",
    "test_pangram(pangram)"
   ]
  },
  {
   "cell_type": "markdown",
   "metadata": {},
   "source": [
    "## 10. Write a function to check if a given password is strong (at least 8 characters, at least one lower case, at least one upper case, at least one number and at least one special character). It should output True if strong and False if not.\n",
    "`Valid special characters: # @ ! $ % & ( ) ^ * [ ] { }`"
   ]
  },
  {
   "cell_type": "code",
   "execution_count": 35,
   "metadata": {},
   "outputs": [],
   "source": [
    "def check_pass(string):\n",
    "    Valid_special_characters = \"# @ ! $ % & ( ) ^ * [ ] { }\"\n",
    "    counter = 0\n",
    "    upper = 0\n",
    "    lower = 0\n",
    "    character = 0\n",
    "    num = 0\n",
    "    for i in string:\n",
    "        counter +=1\n",
    "        if i.isupper():\n",
    "            upper +=1\n",
    "        if i.islower():\n",
    "            lower +=1\n",
    "        if i in Valid_special_characters:\n",
    "            character +=1\n",
    "        if i.isdigit():\n",
    "            num +=1\n",
    "    if counter >= 8 and upper >0 and lower >0 and character >0 and num > 0:\n",
    "        return True\n",
    "    return False\n",
    "            \n",
    "\n",
    "    "
   ]
  },
  {
   "cell_type": "code",
   "execution_count": 36,
   "metadata": {},
   "outputs": [
    {
     "name": "stderr",
     "output_type": "stream",
     "text": [
      "....................................................................................................\n",
      "----------------------------------------------------------------------\n",
      "Ran 100 tests in 0.145s\n",
      "\n",
      "OK\n"
     ]
    }
   ],
   "source": [
    "# This will test your function \n",
    "test_pass(check_pass)"
   ]
  },
  {
   "cell_type": "markdown",
   "metadata": {},
   "source": [
    "## BONUS"
   ]
  },
  {
   "cell_type": "markdown",
   "metadata": {},
   "source": [
    "## 11. Write a function that returns the mode of a list, i.e.: the element that appears the most times.\n",
    "`NOTE: You should not use count... 🧐`"
   ]
  },
  {
   "cell_type": "code",
   "execution_count": 24,
   "metadata": {},
   "outputs": [],
   "source": [
    "def mode_counter(arr):\n",
    "    most_frequent_element = 0\n",
    "    counter_j = 0\n",
    "    counter_i = 0\n",
    "    for i in arr:\n",
    "        for j in arr:\n",
    "            if j == i:\n",
    "                counter_j +=1\n",
    "        if counter_j > counter_i:\n",
    "            counter_i = counter_j\n",
    "            most_frequent_element = j\n",
    "    return most_frequent_element\n",
    "                \n",
    "            "
   ]
  },
  {
   "cell_type": "code",
   "execution_count": 25,
   "metadata": {},
   "outputs": [
    {
     "name": "stderr",
     "output_type": "stream",
     "text": [
      "....................................................................................................\n",
      "----------------------------------------------------------------------\n",
      "Ran 100 tests in 0.107s\n",
      "\n",
      "OK\n"
     ]
    }
   ],
   "source": [
    "# This will test your function \n",
    "test_mode(mode_counter)"
   ]
  },
  {
   "cell_type": "markdown",
   "metadata": {},
   "source": [
    "## 12. Write a function that receives a string of comma separated words and returns a string of comma separated words sorted alphabetically.\n",
    "\n",
    "`NOTE: You may use sorted but not split and definitely no join! 🤪`"
   ]
  },
  {
   "cell_type": "code",
   "execution_count": 125,
   "metadata": {},
   "outputs": [],
   "source": [
    "def sort_alpha(string):\n",
    "    word = ''\n",
    "    string_in_a_list=[]\n",
    "    semi_sorted_list = []\n",
    "    almost = ''\n",
    "    for i in string:\n",
    "        if i == ',':\n",
    "            string_in_a_list.append(word)\n",
    "            word = ''\n",
    "        else:\n",
    "            word +=i\n",
    "    if word:\n",
    "        string_in_a_list.append(word)\n",
    "    \n",
    "    sorted_list=sorted(string_in_a_list)\n",
    "    print(sorted_list)\n",
    "    longitud = len(sorted_list)-1\n",
    "    print(longitud)\n",
    "    \n",
    "    \n",
    "    for i in range(longitud):    \n",
    "       \n",
    "            almost = almost + sorted_list[i] +','\n",
    "    \n",
    "    sorted_string = almost + sorted_list[-1]\n",
    "    \n",
    "    return sorted_string\n",
    "       "
   ]
  },
  {
   "cell_type": "code",
   "execution_count": 126,
   "metadata": {},
   "outputs": [
    {
     "name": "stderr",
     "output_type": "stream",
     "text": [
      "....................................................................................................\n",
      "----------------------------------------------------------------------\n",
      "Ran 100 tests in 0.137s\n",
      "\n",
      "OK\n"
     ]
    },
    {
     "name": "stdout",
     "output_type": "stream",
     "text": [
      "['chfv', 'cljrllphng', 'iontdvcgmz', 'odskipx', 'rmuhikapbu', 'rzal', 'sgak', 'tjhpi', 'uhmygkpxdv', 'unoyf', 'yzgpffia', 'zfzfkge']\n",
      "11\n",
      "['aebpqksb', 'ajhhulck', 'avywfyygi', 'dbsfpesye', 'fmdyvbtwww', 'khrrdico', 'kmerhfwlma', 'npdakw', 'pxdcxkb', 'qwpcvzcqpm', 'rwgep', 'tvlp', 'vbegqw', 'xklr', 'xvxbwcsm']\n",
      "14\n",
      "['cehdpcp', 'czisijib', 'foedapsa', 'hikzkizr', 'izkn', 'kxckmzug', 'kyjhipe', 'vzbxcqz', 'wthqyz', 'ywobcij']\n",
      "9\n",
      "['bldki', 'etbnxwb', 'ewcivvai', 'fapdlr', 'gcgzis', 'geyudxds', 'jtonlov', 'ltwnysc', 'mblawhfd', 'opaugxmtzd', 'owdfvutyhd', 'oyjeof', 'pdaby', 'qhffkf', 'rcgmj', 'shqeag', 'tmjx', 'uadhjrb', 'zwzppc']\n",
      "18\n",
      "['btvnce', 'czoubng', 'dxrqjwlm', 'gvxwqi', 'iqah', 'lqfyvpb', 'obry', 'olvzr', 'pfdel', 'pmcgbg', 'syeuj', 'wgxynuof']\n",
      "11\n",
      "['mbplrwcugl', 'osbuinwdjr', 'owutcihj', 'pzdtvhh', 'thuvrhoyki', 'timzufm', 'tltpwunnx', 'uogki', 'vgdvuy', 'wxdmn', 'wyslddsxqw', 'zmxfhhmgg']\n",
      "11\n",
      "['auwd', 'bpesjj', 'buqucsiwyz', 'cdchrh', 'czdcooq', 'dcpe', 'dhzhlr', 'gxhwqkdstl', 'hcpmove', 'jbyxpkz', 'ljeqryr', 'ofbsdz', 'qgdzqjas', 'rmjvhp', 'ryenug', 'siaipzaptr', 'trtsvhdti', 'utyyursqu', 'xtijzuawkw']\n",
      "18\n",
      "['gglx', 'ntraxhdtcf', 'poukowfc', 'qjniy', 'tofaaxyax', 'wdfxiizlq', 'zhzfn']\n",
      "6\n",
      "['fdcrqu', 'gcteyc', 'mhrys', 'nryvdo', 'ucxzm', 'xptmtmdpbn']\n",
      "5\n",
      "['cfpmm', 'csftiz', 'gptls', 'itbiuqw', 'jtwtvcdsbc', 'lcnkxxbu', 'rpub', 'rumcrmh', 'sjzr', 'vdvf', 'xrbrkbgza']\n",
      "10\n",
      "['aywqns', 'dmxecpi', 'dwzl', 'mikundfm', 'pjwi', 'qeditvzh', 'tvkhjrzf', 'urpbtirbd', 'yfidugr', 'zdixruie']\n",
      "9\n",
      "['bpmbjhno', 'caucs', 'cklioibk', 'lejqnc', 'qslnwa', 'xmqyo']\n",
      "5\n",
      "['ddwphuv', 'glihiakspk', 'lkxnchvimr', 'mbzrvaxsnb', 'mgwoikpywz', 'nabkozmpst', 'owuqvxros', 'pggwajc', 'rixq', 'ttksqrz']\n",
      "9\n",
      "['bsftkz', 'dooy', 'ipruhqcbz', 'jcbgapbq', 'ogfjvqqrso', 'xanccra', 'xrywouz', 'ynkmutzmf', 'znuslhq']\n",
      "8\n",
      "['atvapn', 'clzkbe', 'dtdk', 'gtdzykevn', 'gxgleru', 'hatfmxxa', 'iqbcpnhsj', 'iqkimtm', 'jgqsnoo', 'ksqefur', 'ldhtqrrgux', 'msibez', 'njrhddzlw', 'pqgtxswj', 'qhcuwxc', 'trrw', 'wiflxacz', 'xabjmunf', 'xpaq', 'ybwgjivto', 'yjjbq']\n",
      "20\n",
      "['cacnctd', 'ciqxbos', 'ioiqovkwv', 'jbuxsudwa', 'jikylmmj', 'jlikcqaosf', 'pdomnnnmp', 'qckk', 'thlmkzpriz', 'tjqppu', 'uhtp', 'vdint', 'zrmsvwz']\n",
      "12\n",
      "['dolysobqek', 'febj', 'gjzvdl', 'hkmq', 'hvrpnd', 'ikuiveakeb', 'ivcg', 'jfiedjsamp', 'ktjnxe', 'kzlfo', 'mfpsqr', 'pikb', 'pnwquvpt', 'zcdjbfprc', 'zmkvf']\n",
      "14\n",
      "['enkkdpclz', 'psojdq', 'rjjrbvuo', 'rsyrvxwfe', 'yyib', 'zkwarpunh']\n",
      "5\n",
      "['bsfux', 'cixyjosx', 'cvkwoopc', 'dnkiu', 'efhpgdnm', 'kbatsuvb', 'oene', 'pkytbejwr', 'qvvqwcw', 'qxhny', 'uxxdbkrxez', 'wcoophbid', 'wdcxwok', 'wmuks', 'xbts', 'yfmvuba', 'yvqetmjej', 'zili', 'ztilfmosf', 'zxrzlzu']\n",
      "19\n",
      "['bbgxekawbk', 'bzijmtryv', 'dqaylhty', 'gmthpugnma', 'ivavgfp', 'iznks', 'jpkdhjiu', 'ludyulwvl', 'nqtllao', 'pueumda', 'rlibt', 'rvfdmxkbb', 'stmb', 'uazwrpwo', 'vxxxumji']\n",
      "14\n",
      "['cqne', 'dawma', 'dmmadufd', 'gkwddf', 'glmottve', 'grsvbnljjv', 'jukbkjn', 'kidbtewxld', 'lklntf', 'meodn', 'qfflw', 'rrtonoblsd', 'uhwwj', 'vhzj', 'wddkg']\n",
      "14\n",
      "['fapygpuahp', 'gqgpywgjh', 'gvqivs', 'hhslwu', 'jphhfhrt', 'jxgc', 'mackrh', 'meyqvsbjsh', 'mmdmkg', 'ogsaqf', 'quygtxjf', 'qzihxagf', 'rsqkpjsqra', 'souprmnwuv', 'szyvx', 'tofmauraf', 'ubhdeh', 'yiity']\n",
      "17\n",
      "['aeabu', 'akdmywioc', 'arfibkywyz', 'azjpfymax', 'chvnnux', 'ddlq', 'efsno', 'egeizkipd', 'flkfudl', 'ihfclcupkh', 'ipirpgk', 'lmcthx', 'mebuprubx', 'oyuy', 'pjgl', 'pthswl', 'tphakv', 'vaqe', 'vfkjhk', 'vpcasg', 'vrcdrya', 'xjemhprl', 'xnpfk', 'yqzr']\n",
      "23\n",
      "['atais', 'ixnvkr', 'jgcysxrgxw', 'jibim', 'jrnxumbrd', 'qokk', 'tvjq', 'uqeh', 'yjtsxwhtdh']\n",
      "8\n",
      "['ehqmlaqha', 'fwhegsp', 'hhctfkrtwy', 'hmqavqsuma', 'idderyl', 'iimys', 'jfhrauk', 'jmtawnvlqw', 'jznpxsc', 'kevbcai', 'lpyrshw', 'lttlgjcx', 'pcszza', 'qmlzenox', 'qolmyudkf', 'rxbjlyy', 'sbgmb', 'syinvsg', 'vubgvqa', 'zcceyxypp']\n",
      "19\n",
      "['csln', 'hajcihcre', 'kihmdbe', 'pnlccl', 'ptrumpj', 'vdubf', 'xhgikgciz']\n",
      "6\n",
      "['atfeoy', 'ckbmy', 'dhbgkcycb', 'drwo', 'ezyhm', 'fkeimddrr', 'fmgnswuy', 'fpban', 'fuzhmbk', 'gaycs', 'kmslpqppf', 'lclcpotldc', 'owazaic', 'rghjvbjvuu', 'rhllwrmwps', 'temmjkcoib', 'uenruqcpy', 'ybhruhlxi', 'ybzyn']\n",
      "18\n",
      "['awqj', 'betonmkua', 'bfbnlarh', 'cirs', 'ckukjttbf', 'cogqvhpp', 'fnsjxaahlf', 'fxvgecl', 'fzkli', 'kgad', 'lufkcm', 'ogiqjpnhxy', 'owka', 'rvmk', 'tmhp']\n",
      "14\n",
      "['agmg', 'ajige', 'bcdcwbuuut', 'cwextcyy', 'cwlydmlqk', 'dsklxjrwz', 'ehbvba', 'ekufjgvd', 'fspz', 'hyfxx', 'igeguehhhi', 'joffl', 'mesaeu', 'naohmj', 'numxihjw', 'ojwnlshkvy', 'oqtu', 'qpzyrqsus', 'ttilqut', 'wfvn', 'wkfhdl', 'yyfwbdnd', 'zjintsxg', 'zpjdrsq']\n",
      "23\n",
      "['hlbm', 'jxkphkwhmp', 'liecp', 'wxkrp', 'xsigkigw']\n",
      "4\n",
      "['auahzgb', 'azwqrkshp', 'ctvapfe', 'dkydawy', 'egqk', 'fnwhszl', 'fwodyt', 'gbmx', 'gyehuppbt', 'hccik', 'hmyamx', 'kfpxdhm', 'nixijyatso', 'pqto', 'qngowc', 'rywat', 'segajtv', 'tagsctij', 'ulthywsrzv', 'uorqytey', 'utconetyf', 'vvda', 'vzbhpjwci', 'whbzpnnobl', 'wkgc']\n",
      "24\n",
      "['gmnk', 'jpwybqm', 'pevswt', 'yoktuwyt']\n",
      "3\n",
      "['ayqe', 'cylitdxvkl', 'ejdwdqdy', 'eojgkdsvk', 'etsm', 'eyoolep', 'ggtjeihyp', 'gqejjjobb', 'hwsc', 'ibsstu', 'ivmu', 'jziiuysw', 'nwmxwdlb', 'ryocebon', 'sfopvwsdih', 'uduf', 'uraefauc', 'xkfpusq', 'ygge']\n",
      "18\n",
      "['acuwhindjx', 'ckdhsjym', 'fdbp', 'glzgrnjay', 'jewdo', 'kyrlvtlti', 'ldgepcqlz', 'vxombaebfv', 'wkzc', 'zrkysxrg', 'zspl']\n",
      "10\n",
      "['avvgl', 'baprhciiwu', 'cudh', 'cxdrmulz', 'dnom', 'dzerkdg', 'gdzfpuz', 'jkzoiz', 'lnzrsx', 'nmvcqghv', 'nrpjgfliwt', 'nsfpnychw', 'omrlrnag', 'ppqzzkwq', 'pumctiadv', 'rrigqlfw', 'sejgzxrh', 'tldkzz', 'xziglja', 'yllvhvgh', 'ytyfxaf']\n",
      "20\n",
      "['bdtugtzh', 'iisot', 'lwwtkjnfx', 'marwmmf', 'mrjcyn', 'nbjmksczro', 'pbvznjhpz', 'qcvsfwvb']\n",
      "7\n",
      "['frvowcer', 'jjxcl', 'mdga', 'mjdlowqv', 'tfzlutj', 'vjktnvj', 'wambcjbbho', 'xwvgnvd', 'zgotqvhyg']\n",
      "8\n",
      "['amxp', 'bmerwjbwfb', 'eqfyaktr', 'exasnmtr', 'gjxxj', 'kgbqrzsjmv', 'leyemcnq', 'nvews', 'rslfq', 'wyrduuz', 'xvxtkblt', 'yzaaljn']\n",
      "11\n",
      "['ccywzoteu', 'ctgwirb', 'efksvhclo', 'epui', 'fukgec', 'ggwgmv', 'kletklr', 'pdeusseg', 'qgpwaxav', 'qrxtlr', 'qwca', 'teockx', 'ucdwmlwdrf', 'vyxskgmiaz', 'wggdblgecd', 'xumvi', 'yfgebbwk', 'zjoad', 'zxcldrbmc', 'zzyaqqfwxb']\n",
      "19\n",
      "['cxpslkwvc', 'fhdyiyamam', 'hpre', 'igkjt', 'orbmxkkpaz', 'pxzotwlwo', 'rstmuvrojp', 'tnozvfhbh', 'zsxunq']\n",
      "8\n",
      "['adenfsj', 'agraxwp', 'cmvpwhbx', 'dzfexvggu', 'esxvfvt', 'fshvfsgjnb', 'gfsrdtnj', 'ifnwpnqib', 'iqaaouyot', 'ljnfl', 'mtqcqpzt', 'ohkhcty', 'opheythszl', 'pfce', 'qaikkkr', 'qvjmb', 'rlusez', 'uhbnf', 'wrffzw']\n",
      "18\n",
      "['asipck', 'aufjsv', 'bxaohbzqb', 'cgilkajld', 'eqkb', 'hhczclvrp', 'ibsnz', 'jsmzwpp', 'kolzur', 'qfpqzwbv', 'qglhp', 'rglkssc', 'sykqsasorf', 'thwzmik', 'vvhkjy', 'whdvllgfvi', 'xygtpxmzc', 'zwzvfrn']\n",
      "17\n",
      "['bcybd', 'ckpj', 'cqmgiwv', 'ezgyq', 'hfsjdv', 'ihsusx', 'jgqgpvn', 'jrgpgqslsd', 'kimyaofzj', 'ldcqpp', 'loxzf', 'mmizrfdvq', 'nnaha', 'noaojnw', 'qfmfo', 'sfezgntch', 'ucpjacd', 'uhlzj', 'waekwcdow', 'xarggclobo', 'ymqa', 'yundcalfu', 'zfmhy', 'zrumuekdh']\n",
      "23\n",
      "['cbbajlsjr', 'cnesz', 'hdlmelslc', 'hjsytjz', 'jdgwt', 'kgwjkui', 'mpbdf', 'mwce', 'mznzhzhw', 'onwgmktn', 'orkj', 'pmlon', 'qgjldqia', 'rpjekzq', 'smwkhqeq', 'swibutiei', 'vdim', 'vmxo', 'vndrayele', 'vqeakktob', 'vwgmvkp', 'wrvmvokjp', 'xqzogc', 'yapdiaoc', 'yehbybswu']\n",
      "24\n",
      "['glevmu', 'hstxbx', 'jwirlgomyg', 'nvhhvcgoj', 'pnvftfm', 'tbmhs', 'vjgebw']\n",
      "6\n",
      "['gtznba', 'lcbzgl', 'mvsbmkqj', 'rvscmqdws', 'wybpghcq', 'xdfd', 'yxcui']\n",
      "6\n",
      "['bijlef', 'bqygiujm', 'bqypyqxpm', 'cdwtqstdyu', 'cepijlhix', 'fzgnlg', 'gcqdu', 'gmai', 'hliivo', 'iigeqtvqvb', 'isjtsdq', 'isuczfezl', 'kmaxrqg', 'pvvubdlds', 'pxgk', 'sbii', 'tgvkiphqis', 'umhmum', 'uwjw', 'vwmvm', 'yppph']\n",
      "20\n",
      "['eaci', 'hmgeoas', 'jlwz', 'kicgdxg', 'tnqbawbwml', 'vpfiqxpc', 'xsmvtr']\n",
      "6\n",
      "['hqjpb', 'ketod', 'llvohiwo', 'ntuekp']\n",
      "3\n",
      "['aadlellpph', 'agifmytwy', 'dtkcojukbq', 'eixhoyd', 'fccyfqj', 'gptcezlk', 'gtxw', 'hcjt', 'ihpqncypow', 'jmbxazoqa', 'khlocot', 'kkyvedz', 'nammkzx', 'prkweddgxm', 'pszryct', 'qksuy', 'qqgizsqlft', 'rxrcas', 'twtwijaomt', 'xpgj', 'ycbaqtcxrk']\n",
      "20\n",
      "['anqop', 'bfmskpq', 'cmewrtbffj', 'egilzaok', 'isewydsaq', 'jvycchtthg', 'mggmg', 'mwxgqaeas', 'ngfr', 'pyuse', 'qjmfn', 'sdptmzf', 'tmguzvdamq', 'trjtjfp', 'ueizs', 'vgmtrfwzzb', 'wefw', 'wljzjkuxt', 'wydkmrqh', 'zbrufxgn', 'zeab']\n",
      "20\n",
      "['downvv', 'falisnggz', 'jhwzejsund', 'knmpk', 'llrosil', 'mlmlqjtvtw', 'mzqhq', 'rjpqobr', 'tajzjojs', 'zswod']\n",
      "9\n",
      "['avbwomvbmb', 'bmhvx', 'bmybtyxg', 'fijknx', 'fwrof', 'gxyvmyxcb', 'gzdop', 'jeaxh', 'kjxso', 'lumlccpscc', 'ptct', 'pxmrf', 'szeingdfs', 'tbjwzs', 'ulzdjjp', 'wsmch', 'yktxoerh', 'zhmks']\n",
      "17\n",
      "['cmztdony', 'eotrkb', 'evjtvywxu', 'gxbdjqz', 'htdnfrk', 'hvupebfmbh', 'igdpyb', 'lwizbw', 'qxccik', 'rwhfytf', 'sbaqjk', 'vroav', 'wwjapvbz', 'ygkfumqpuk', 'zdtwvdn']\n",
      "14\n",
      "['acxpxdjl', 'cnbl', 'dyvyarxs', 'faczfn', 'gxilhc', 'jwjwj', 'qesym', 'viapvapol', 'ytpqmagakv']\n",
      "8\n",
      "['aylfosgn', 'blgi', 'esljpqgnqf', 'fqdvyhqzi', 'ftyyfmyhy', 'hbdyhuqtlx', 'ilmhpqnix', 'isovsttvpc', 'kdewk', 'nyax', 'pjyhbjt', 'rgulizqxn', 'rkzkmduvku', 'romzin', 'tfhj', 'vdccjmyy', 'vfnpvuouxn', 'wfgjpunxcm', 'xdzpaydu', 'yqbg', 'zpddw']\n",
      "20\n",
      "['ditvovs', 'ebcpzl', 'fjce', 'hskwoho', 'jcdgjwr', 'jlfmqu', 'juhbp', 'kexl', 'lemwiaajfm', 'mswotloi', 'obwfahxv', 'ptorbcfqma', 'qmgy', 'qmvfylulpl', 'tishbsofq', 'wmzhfakhg', 'xrvvphh', 'yzugyenfq']\n",
      "17\n",
      "['dwnmdrtexi', 'ksmo', 'ktkzwc', 'qkkt', 'vrxmfccrl', 'yqzj']\n",
      "5\n",
      "['qcrbzy', 'ufilzbflg', 'xjqplcpf', 'yutx']\n",
      "3\n",
      "['cydcgxfyxe', 'jsrrxepq', 'jyoup', 'mggadbfczx', 'mwmbranmar', 'pcxjwzqalr', 'vdjtcjn', 'wswhzxaiq', 'xoyfcm', 'ywyrnhixd']\n",
      "9\n",
      "['aiew', 'czwhxg', 'fcczjxuee', 'fpaappl', 'ghgy', 'jcyogmno', 'kbzr', 'mdol', 'nouqsta', 'pighdtlzwt', 'rfpsdiwmx', 'rlygaypjz', 'skavmldq', 'uhzy', 'vcckv', 'vjruaivfvq', 'wjgcm', 'worlncb', 'xhkg', 'ypoeegv', 'zikgcpie']\n",
      "20\n",
      "['afrzkjvo', 'blqt', 'ctfdcm', 'dzavtlchuv', 'evfrmasm', 'fnjozoto', 'frnvjlgq', 'jrbfji', 'mywz', 'nhepctqcga', 'ntlqsxqgc', 'pqzwurdgcv', 'qpaqv', 'rmxcaolw', 'shtqyc', 'stuphf', 'tsmgikn', 'typprhssa', 'vxkynhuuk', 'xnjk', 'yrjw', 'yzcvdhle', 'zxvuixas']\n",
      "22\n",
      "['bgdkgq', 'cozrpjnki', 'cwjzqclqd', 'dqenadgpk', 'flsrmvh', 'imtcg', 'irmrtic', 'jonjnqtvy', 'jwfzvzuqg', 'kgifim', 'mtdkzlqggj', 'oxogujfm', 'pkbyjv', 'rrfg', 'wiybgasl', 'wizbsfnfq', 'xeqwjvgsck', 'zdmsezuueh', 'zwlzw', 'zypakgtqa']\n",
      "19\n",
      "['bqrjkxu', 'fzjkc', 'iaebiogg', 'iqpiegbcyp', 'kbcjwygm', 'kyscfsxq', 'niwejz', 'qhwyy', 'raaykoc', 'rvylavn', 'vnlxyicsl', 'vxck', 'wuxpdeg', 'yrhwa']\n",
      "13\n",
      "['acxwvukykf', 'amszrydxgc', 'bdpc', 'buwbcpwbu', 'cbynqekiaa', 'cqfjrjret', 'dsvbsvsd', 'foncyzlmst', 'jfoumegomr', 'kahvspcq', 'lkgne', 'mcahacd', 'pileyvgn', 'plmeuftzwz', 'qlprspj', 'qrihgvnjtn', 'seaabpjtwv', 'skojxa', 'sxxjledtzd', 'vakiujkvl', 'wphmr', 'xlvapvt', 'zonxpjfvn', 'zyfxgfc']\n",
      "23\n",
      "['arxdd', 'dhhuteajka', 'ebsw', 'ioyxefi', 'ithjenuci', 'lknzjwyljx', 'ngmy', 'qruxm', 'ufndlhowst', 'uhkiefzga', 'wkfqjtd', 'yfqxrwfgf']\n",
      "11\n",
      "['bbyltqlv', 'bjyxznwoz', 'cettmap', 'covet', 'ejvkzrq', 'fohzzs', 'forax', 'fxjey', 'hrfp', 'kzbi', 'mzpygn', 'nbrltbazf', 'qrlozbnh', 'rlqleeug', 'tlqqi', 'tqipb', 'wbyrs', 'xbcf', 'xspiq']\n",
      "18\n",
      "['abnva', 'bsmnv', 'fisa', 'frajvgqmpc', 'iikthcd', 'kkdj', 'klsytzcw', 'lftoqht', 'pesi', 'skcpd', 'tevaeutayk', 'xtoo']\n",
      "11\n",
      "['bndwnjrtau', 'emdmpxma', 'iolezcuc', 'umdl', 'vvwfifwmn']\n",
      "4\n",
      "['acvcv', 'adye', 'cmwjwwaybt', 'fcep', 'gtyqelzngx', 'huzeyc', 'kzejzxtorh', 'lmyfg', 'malhw', 'nbfz', 'nczvq', 'rhxtkk', 'ryfnnxd', 'tobketbco', 'uilfz', 'wpvza']\n",
      "15\n",
      "['gkoi', 'hdehgkj', 'jwitphx', 'rczr', 'unoqfdsdya', 'xcvjzdrrq', 'xmhvx']\n",
      "6\n",
      "['avkuufzm', 'dtxlbdzzcp', 'frkv', 'ghzvndj', 'gpjdtxvo', 'gsmsqp', 'hezjaw', 'hwfyxvew', 'jfoevw', 'kbadjbrvmt', 'ledghjzt', 'lzryk', 'naoryclr', 'olumq', 'ruseqhx', 'tmxhcodxs', 'usqmyg', 'vkjpp', 'wywlgvabp', 'yhzq', 'ykqfxn', 'zpagivjec']\n",
      "21\n",
      "['bbgbdqcdm', 'cgnmvqzamq', 'dimxv', 'dnogz', 'evspqwagv', 'fcnecf', 'frllstdk', 'ibpewi', 'ihybsbzpv', 'jfzksylqb', 'jzvzo', 'mcxzs', 'osdxil', 'pwfea', 'qiquyktrzm', 'ucelvr', 'unlmc']\n",
      "16\n",
      "['bttpvbx', 'nqsp', 'xdmrdn', 'zmfzhy']\n",
      "3\n",
      "['cojjczy', 'esjoxeybss', 'ezaepguo', 'gylpge', 'hblcpqwnsf', 'hfmiw', 'knkikwh', 'mechrqr', 'ngebb', 'saaojtdft', 'thbx', 'tjgsskja', 'uacdudkjj', 'wtlmjefitv', 'xufyzmrmkh']\n",
      "14\n",
      "['ahfrncuq', 'bhuonlx', 'cxuzc', 'evtxbauw', 'fbffdasrn', 'ivrgxu', 'iwxvmtzc', 'ptzj', 'qfxujma', 'ubjhr', 'uyylbb', 'wyomuv', 'xlgftba']\n",
      "12\n",
      "['audwvutkbe', 'clzizq', 'dxotxas', 'ejtbqvzc', 'gjxl', 'jnswcgifo', 'rnmb', 'twccevoom', 'wuhl', 'xrtnwwrcn', 'xzyc', 'zdrewjl']\n",
      "11\n",
      "['beryzv', 'byzrsy', 'cnkpafu', 'dlvdx', 'emhhbusw', 'esobz', 'evgexp', 'fbggidwv', 'funkusfay', 'gleutvn', 'gpevqxjh', 'hmimcm', 'ilgw', 'lccrf', 'ngzoiqpn', 'onth', 'rkpuais', 'slya', 'splrddza', 'tgwphi', 'vuljrea', 'ybjmwg', 'zhmyzxao']\n",
      "22\n",
      "['bhtugvt', 'bwpob', 'dtnvncfie', 'fdmlce', 'fzfqqmfx', 'fzzsdkmo', 'jpcr', 'jsqhudmki', 'lkloe', 'lstvcr', 'nmryzwezw', 'rezjuauwyg', 'vqdltnvs', 'wgsysjjm', 'xkhn', 'yucf']\n",
      "15\n",
      "['dkiiy', 'jtjnm', 'lemtpckw', 'lwqaxrni', 'pdrfsexfc', 'uvajc', 'vqctaxjok', 'vqenj', 'wjmutsfz', 'ylbiwy']\n",
      "9\n",
      "['belpfsriwa', 'gywbid', 'jtgfjztd', 'moooqrrn', 'ryemmvde', 'ryttnexw', 'scslssrk', 'uliztf', 'zshqqlwx']\n",
      "8\n",
      "['acquklaghr', 'bucbmajf', 'cajnpun', 'dducmcam', 'edwmuwptym', 'emhsrcclx', 'gidlmn', 'hncyqkqrl', 'iuqrbnt', 'jvsvuzwl', 'nowqy', 'ntiabrahx', 'oecrmvyl', 'oxpqiwgqvs', 'qwvyq', 'qzdaw', 'roin', 'tieamtm', 'tkvj', 'tvirga', 'uarphp', 'uect', 'vjdhz', 'zlyeqmrjnt']\n",
      "23\n",
      "['egpzzolugx', 'giyhkj', 'hleaertwj', 'lxibprzcch', 'ofjcpvb', 'qfdvwh', 'ynufbtow']\n",
      "6\n",
      "['acxbpcq', 'amisgel', 'fhhzprwcl', 'kjvunuii', 'kxcliecqo', 'lcxfty', 'mdszaedwqz', 'nqokjqplpc', 'nwwqhplwmp', 'omhfntjpb', 'qekgqwy', 'sgvssbooj', 'tssfs', 'uwox', 'vmvqi', 'vyvtdhpyz', 'wfvjc', 'yalozzk', 'yrpukrg', 'yuchhi']\n",
      "19\n",
      "['bvkefe', 'dhdlndbha', 'dqwebu', 'iunthzrz', 'jwca', 'kmcipoim', 'kwydtwaa', 'lrzyvgfsq', 'lwltmvnwp', 'mpmpixdl', 'mwaelyle', 'mwgad', 'oqjcibaoh', 'rgcdkigtr', 'snlqem', 'sqqhgrj', 'wqgqb', 'yjwtgj', 'zblt', 'zukobsln']\n",
      "19\n",
      "['fojalq', 'imue', 'knryw', 'lugtfao', 'odiipnnns', 'pbfwj', 'pkbdrkefjd', 'pzwbcwhs', 'smbechokhp', 'tcql', 'ukmjat', 'vupukkfe']\n",
      "11\n",
      "['cdljahy', 'eupfjadvx', 'fsikrz', 'ipka', 'nhbfragd', 'pbaza', 'pbpa', 'tbej', 'vjdul', 'zjckriz']\n",
      "9\n",
      "['dlitmvqep', 'dwulyhxf', 'fgaquq', 'gxsporc', 'ifgsa', 'igsifbrqgg', 'iizut', 'jbsfu', 'jdoklix', 'kbirdcme', 'ohvqgcqt', 'qbricwnniv', 'ranugbrdpz', 'rxhbg', 'ttopdvz', 'xknm', 'ydqweq', 'zzlpee']\n",
      "17\n",
      "['akkkifo', 'buujcmjek', 'gdicoavjhd', 'ieafna', 'lpxmpd', 'poxppmxf', 'rsyyzr', 'yxmndpzfc', 'zffyyvle']\n",
      "8\n",
      "['cmxsyneqx', 'ecwzimgsg', 'gfoji', 'gmvsovjy', 'jkmyzcd', 'miovzvn', 'qvdsz', 'rnzm', 'ulfjul', 'wlogcdtz', 'zgfkp', 'ztnovs']\n",
      "11\n",
      "['alvjgjock', 'esjp', 'exwjz', 'glujdigaq', 'gukf', 'hbvfxkfj', 'hved', 'kmtw', 'mklpxmnrm', 'npsw', 'pohcsvbamk', 'pqlhe', 'pqvlvmahae', 'rhhlhjrt', 'sntppufvw', 'uzstgfsl', 'vdhrpsl', 'ycutba', 'yfobhnro', 'zhcuo', 'zibh']\n",
      "20\n",
      "['egxd', 'gfbvncatw', 'jtgzsd', 'nqasdc', 'nxbtvcodv', 'sjbzipf']\n",
      "5\n",
      "['akxdcafrb', 'avhfnxb', 'bmrqgine', 'csgwzpz', 'fdva', 'fowiclnz', 'glmav', 'gpmjtewn', 'gxtign', 'ikbgiwe', 'ivpjvncmo', 'koonx', 'oqzymvod', 'oydqceqrt', 'sojfik', 'tdqd', 'ucwc', 'vcopma', 'vllz', 'vmfyhs', 'yercqevfur']\n",
      "20\n",
      "['lcubenievy', 'mwfzav', 'otokdm', 'slbtjkpmp', 'uuqfs', 'uylvpgzfe', 'vbwf', 'xevlvuzt', 'yhqqdyh']\n",
      "8\n",
      "['dmouja', 'eseicjzks', 'eyje', 'hvqgjajtmw', 'iwbcvqdha', 'kxzn', 'lvppuh', 'nfucj', 'nmyamc', 'nupoid', 'ouyomkl', 'pjgnqfay', 'qwpjdhtu', 'rsdlm', 'tnfr', 'ufjjywpdy', 'wsoqcx', 'xdvhbs', 'xfpoufleh']\n",
      "18\n",
      "['bghrk', 'bnrkicqeh', 'bopmwv', 'cmekrxs', 'ddpwimc', 'evucnfhd', 'fmrio', 'hhsl', 'ibsvpgwahg', 'kemvbaaf', 'llkv', 'mhjvlkgn', 'nlfu', 'npgnu', 'pnowpkok', 'pxmid', 'tonap', 'wkptjqhvwq', 'wnvbljit', 'xcgflzgw']\n",
      "19\n",
      "['aajxo', 'auhdrkp', 'cfrnkkk', 'dbbwk', 'dpvawnat', 'ecddus', 'ephnpj', 'nudvhyvs', 'qiulzejlox', 'rxifiegyx', 'vfwpnylh', 'vnmlgrwar', 'xqwqf', 'ybfgfdzgj', 'zbdvfz', 'zxqy']\n",
      "15\n",
      "['blpjbgipnw', 'cmpipjvym', 'cwuhzh', 'ecytxgx', 'gvatyvtr', 'gzszdls', 'hlrznrq', 'iwlz', 'jccswmpapr', 'jejxrweixr', 'kbiffyzext', 'latmjbcrau', 'nbev', 'nofu', 'ntnz', 'rdpdrs', 'tnmhmykh', 'uvdqkrjoc', 'wvxe', 'zcsklzbt']\n",
      "19\n",
      "['ddeq', 'ecllvdievw', 'fldynbmqfm', 'fzfyjcot', 'iurzx', 'kfxcr', 'kxkzkbdety', 'lqcbtthc', 'manays', 'oaeeam', 'oeomasiell', 'rivfioj', 'rsei', 'sigkdygo', 'soauba', 'styghznho', 'tnquw', 'uozcrc', 'wrulkifbj', 'xofo', 'zbnc', 'zecqu', 'zmiaoidpa', 'znakyw']\n",
      "23\n",
      "['daatbaqh', 'hgsuwy', 'jfdryftffh', 'mtlgjuhnga', 'paybvxcqwz', 'sqlcysni', 'xhldkeu']\n",
      "6\n"
     ]
    }
   ],
   "source": [
    "# This will test your function \n",
    "test_alpha(sort_alpha)"
   ]
  }
 ],
 "metadata": {
  "kernelspec": {
   "display_name": "Python 3 (ipykernel)",
   "language": "python",
   "name": "python3"
  },
  "language_info": {
   "codemirror_mode": {
    "name": "ipython",
    "version": 3
   },
   "file_extension": ".py",
   "mimetype": "text/x-python",
   "name": "python",
   "nbconvert_exporter": "python",
   "pygments_lexer": "ipython3",
   "version": "3.11.4"
  },
  "toc": {
   "base_numbering": 1,
   "nav_menu": {},
   "number_sections": true,
   "sideBar": true,
   "skip_h1_title": false,
   "title_cell": "Table of Contents",
   "title_sidebar": "Contents",
   "toc_cell": false,
   "toc_position": {},
   "toc_section_display": true,
   "toc_window_display": false
  }
 },
 "nbformat": 4,
 "nbformat_minor": 4
}
